{
 "cells": [
  {
   "attachments": {},
   "cell_type": "markdown",
   "id": "a2b2e1ac",
   "metadata": {},
   "source": [
    "# 파이썬 기초1"
   ]
  },
  {
   "cell_type": "markdown",
   "id": "a7575fa6",
   "metadata": {},
   "source": [
    "### 변수의 정의"
   ]
  },
  {
   "cell_type": "markdown",
   "id": "ac153e40",
   "metadata": {},
   "source": [
    "* 파이썬에서의 변수 정의"
   ]
  },
  {
   "cell_type": "code",
   "execution_count": 2,
   "id": "7d9c0da3",
   "metadata": {},
   "outputs": [],
   "source": [
    "weight=78.2"
   ]
  },
  {
   "cell_type": "markdown",
   "id": "16a04757",
   "metadata": {},
   "source": [
    "* 변수 출력"
   ]
  },
  {
   "cell_type": "code",
   "execution_count": 3,
   "id": "ab14a73b",
   "metadata": {},
   "outputs": [
    {
     "name": "stdout",
     "output_type": "stream",
     "text": [
      "78.2\n"
     ]
    }
   ],
   "source": [
    "weight\n",
    "print(weight)"
   ]
  },
  {
   "cell_type": "markdown",
   "id": "65c9cf6b",
   "metadata": {},
   "source": [
    "* 변수 값 변경"
   ]
  },
  {
   "cell_type": "code",
   "execution_count": 4,
   "id": "f050d224",
   "metadata": {},
   "outputs": [
    {
     "data": {
      "text/plain": [
       "76.9"
      ]
     },
     "execution_count": 4,
     "metadata": {},
     "output_type": "execute_result"
    }
   ],
   "source": [
    "weight=78.2\n",
    "weight=76.9\n",
    "weight"
   ]
  },
  {
   "cell_type": "markdown",
   "id": "8ccb3b49",
   "metadata": {},
   "source": [
    "* 동시 할당문"
   ]
  },
  {
   "cell_type": "code",
   "execution_count": 8,
   "id": "0e50c555",
   "metadata": {},
   "outputs": [
    {
     "data": {
      "text/plain": [
       "70"
      ]
     },
     "execution_count": 8,
     "metadata": {},
     "output_type": "execute_result"
    }
   ],
   "source": [
    "a, b = 50, 20\n",
    "result=a+b\n",
    "result"
   ]
  },
  {
   "cell_type": "markdown",
   "id": "3c49d5ce",
   "metadata": {},
   "source": [
    "### 변수의 이름 규칙"
   ]
  },
  {
   "cell_type": "markdown",
   "id": "3996a6ee",
   "metadata": {},
   "source": [
    "* 문자와 숫자, 밑줄 문자(_)로 이루어져야 함(밑줄 문자 외 특수 문자 사용할 수 없음)\n",
    "* 식별자의 첫 글자는 숫자로 시작할 수 없으며 중간에 공백을 가질 수 없음\n",
    "* 대문자와 소문자는 구별됨 --> 변수 index와 INDEX은 서로 다른 변수임\n",
    "* 파이썬의 예약어(키워드)는 식별자로 사용할 수 없음\n",
    "\n",
    "   False, class, return, is, finally, None, if,for, lambda, continue, True, def, \n",
    "\n",
    "   from, while, nonlocal, and, del, global, not, with, as, elif, try, or,\n",
    "\n",
    "   yeild, assert, else, import, pass, break, except, in, raise "
   ]
  },
  {
   "attachments": {},
   "cell_type": "markdown",
   "id": "f89a9a16",
   "metadata": {},
   "source": [
    "### 문자열\n",
    "* 문자열 저장\n",
    "  * 문자열string: 텍스트 데이터도 변수에 저장할 수 있음\n",
    "  * 문자열은 큰따옴표(\"...\")나 작은따옴표('...')를 이용하여 만들 수 있음\n",
    "  * 파이썬에서는 문자열 데이터를 '객체'라는 용어로 부르며, 변수 s1은 이 객체를 지칭하는 꼬리표로 봄"
   ]
  },
  {
   "cell_type": "code",
   "execution_count": 9,
   "id": "f4196533",
   "metadata": {},
   "outputs": [
    {
     "data": {
      "text/plain": [
       "'Hello World!'"
      ]
     },
     "execution_count": 9,
     "metadata": {},
     "output_type": "execute_result"
    }
   ],
   "source": [
    "s1='Hello World!'\n",
    "s1"
   ]
  },
  {
   "attachments": {},
   "cell_type": "markdown",
   "id": "968fb30f",
   "metadata": {},
   "source": [
    "* 큰 따옴표, 작은 따옴표\n",
    "  * \"...\" 형태의 문자열 안에 \"...\" 형태의 문자열을 포함해 파이썬 인터프리터에게 넘겨주면 아래와 같이 문법 오류가 발생"
   ]
  },
  {
   "cell_type": "code",
   "execution_count": null,
   "id": "10b89a4a",
   "metadata": {},
   "outputs": [],
   "source": [
    "message=\"철수가 \"안녕\"이라고 말했습니다.\""
   ]
  },
  {
   "cell_type": "markdown",
   "id": "b55deed2",
   "metadata": {},
   "source": [
    "  * 작은 따옴표 ‘…’ 로 묶어주면 문자열 안 “ “ 이 인식됨"
   ]
  },
  {
   "cell_type": "code",
   "execution_count": 11,
   "id": "618006c9",
   "metadata": {},
   "outputs": [
    {
     "data": {
      "text/plain": [
       "'철수가 \"안녕\"이라고 말했습니다.'"
      ]
     },
     "execution_count": 11,
     "metadata": {},
     "output_type": "execute_result"
    }
   ],
   "source": [
    "message='철수가 \"안녕\"이라고 말했습니다.'\n",
    "message"
   ]
  },
  {
   "cell_type": "code",
   "execution_count": 12,
   "id": "ac05df01",
   "metadata": {},
   "outputs": [
    {
     "name": "stdout",
     "output_type": "stream",
     "text": [
      "철수가 \"안녕\"이라고 말했습니다.\n"
     ]
    }
   ],
   "source": [
    "print(message)"
   ]
  },
  {
   "cell_type": "markdown",
   "id": "525988cf",
   "metadata": {},
   "source": [
    "* 문자열 길이; len()함수"
   ]
  },
  {
   "cell_type": "code",
   "execution_count": 13,
   "id": "a1849a44",
   "metadata": {},
   "outputs": [
    {
     "data": {
      "text/plain": [
       "12"
      ]
     },
     "execution_count": 13,
     "metadata": {},
     "output_type": "execute_result"
    }
   ],
   "source": [
    "len(s1) # s1 문자옇의 길이를 알려준다."
   ]
  },
  {
   "attachments": {},
   "cell_type": "markdown",
   "id": "a474ad9b",
   "metadata": {},
   "source": [
    "* 문자열 연산: +연산 : 두 문자열을 합함"
   ]
  },
  {
   "cell_type": "code",
   "execution_count": 14,
   "id": "b3d8697b",
   "metadata": {},
   "outputs": [
    {
     "data": {
      "text/plain": [
       "'HelloWorld!'"
      ]
     },
     "execution_count": 14,
     "metadata": {},
     "output_type": "execute_result"
    }
   ],
   "source": [
    "s1=\"Hello\"\n",
    "s2=\"World!\"\n",
    "s1+s2 # s1 문자열과 s2 문자열을 결합한 결과를 반환"
   ]
  },
  {
   "cell_type": "code",
   "execution_count": 15,
   "id": "7c1b0e75",
   "metadata": {},
   "outputs": [
    {
     "data": {
      "text/plain": [
       "'100200'"
      ]
     },
     "execution_count": 15,
     "metadata": {},
     "output_type": "execute_result"
    }
   ],
   "source": [
    "n1='100'\n",
    "n2='200'\n",
    "n1+n2 #문자열에 대한 덧셈 연산자는 문자열 이어 붙이기만 수행"
   ]
  },
  {
   "attachments": {},
   "cell_type": "markdown",
   "id": "67cced84",
   "metadata": {},
   "source": [
    "### 자료형태\n",
    "* 자료형의 정의 및 유형\n",
    "  * 프로그램에서 사용할 수 있는 데이터의 종류를 자료형data type이라고 함\n",
    "  * 파이썬에서 사용할 수 있는 가장 단순한 기본 자료형은 4가지 종류가 있음\n",
    "    * 정수(int):    ..., -2, -1, 0, 1, 2, ...\n",
    "    * 실수(float):  3.14, 4.28, 0.01, 123.432\n",
    "    * 문자열(str): 'Hello Word', '123', \"Hi\"\n",
    "    * 부울형(bool): True, False"
   ]
  },
  {
   "attachments": {},
   "cell_type": "markdown",
   "id": "db95c70a",
   "metadata": {},
   "source": [
    "* type() 함수\n",
    "  * 변수의 자료형을 알려면 변수의 이름에 type() 함수를 적용하면 됨\n",
    "  * 예를 들어서 변수 weight의 타입을 알려면 다음과 같이 하면 됨"
   ]
  },
  {
   "cell_type": "code",
   "execution_count": 16,
   "id": "3f81f682",
   "metadata": {},
   "outputs": [
    {
     "data": {
      "text/plain": [
       "float"
      ]
     },
     "execution_count": 16,
     "metadata": {},
     "output_type": "execute_result"
    }
   ],
   "source": [
    "weight=78.2\n",
    "type(weight)"
   ]
  },
  {
   "cell_type": "code",
   "execution_count": 17,
   "id": "e2c584c4",
   "metadata": {},
   "outputs": [
    {
     "data": {
      "text/plain": [
       "int"
      ]
     },
     "execution_count": 17,
     "metadata": {},
     "output_type": "execute_result"
    }
   ],
   "source": [
    "salary=250\n",
    "type(salary)"
   ]
  },
  {
   "cell_type": "code",
   "execution_count": 18,
   "id": "215704bb",
   "metadata": {},
   "outputs": [
    {
     "name": "stdout",
     "output_type": "stream",
     "text": [
      "<class 'str'> <class 'str'>\n"
     ]
    }
   ],
   "source": [
    "name='홍길동'\n",
    "address='부산시 광안해변로 1'\n",
    "print(type(name),type(address) )"
   ]
  },
  {
   "attachments": {},
   "cell_type": "markdown",
   "id": "67925537",
   "metadata": {},
   "source": [
    "### 자료형의 개념\n",
    "* 자료형에 따른 연산\n",
    "  * 변수에 정수가 저장된 경우와 문자열이 저장된 경우 덧셈 연산(+)의 의미가 달라짐"
   ]
  },
  {
   "cell_type": "code",
   "execution_count": 19,
   "id": "02d01f42",
   "metadata": {},
   "outputs": [
    {
     "name": "stdout",
     "output_type": "stream",
     "text": [
      "20\n",
      "goodmorning!\n"
     ]
    }
   ],
   "source": [
    "x=10; y=10\n",
    "print(x+y)\n",
    "x='good'; y='morning!'\n",
    "print(x+y)"
   ]
  },
  {
   "cell_type": "code",
   "execution_count": 20,
   "id": "e9628d2e",
   "metadata": {},
   "outputs": [
    {
     "name": "stdout",
     "output_type": "stream",
     "text": [
      "2356\n",
      "79\n"
     ]
    }
   ],
   "source": [
    "print('23'+'56')\n",
    "print(23+56)"
   ]
  },
  {
   "attachments": {},
   "cell_type": "markdown",
   "id": "5750761c",
   "metadata": {},
   "source": [
    "* 정수와 문자열을 더할 때\n",
    "  * 100 뒤에 문자열 '원'을 붙여서 출력하기 위해 다음과 같이 입력"
   ]
  },
  {
   "cell_type": "code",
   "execution_count": null,
   "id": "06751023",
   "metadata": {},
   "outputs": [],
   "source": [
    "100+원"
   ]
  },
  {
   "cell_type": "markdown",
   "id": "290ad14d",
   "metadata": {},
   "source": [
    "  * 100의 자료형은 정수, '원'의 자료형은 문자\n",
    "  * 정수+정수라면 2개의 정수를 덧셈, 문자열+문자열이라면 2개의 문자열을 연결하지만 정수+문자열은 연산할 수 없음"
   ]
  },
  {
   "cell_type": "markdown",
   "id": "42dd95e1",
   "metadata": {},
   "source": [
    "### 자료형 변환"
   ]
  },
  {
   "cell_type": "markdown",
   "id": "24364470",
   "metadata": {},
   "source": [
    "* 함수 이용\n",
    "  * str(): 정수 또는 실수 --> 문자열 변환\n",
    "  * int(): 문자열 --> 정수 변환\n",
    "  * float(): 문자열 --> 실수 변환"
   ]
  },
  {
   "cell_type": "code",
   "execution_count": 23,
   "id": "1ce073db",
   "metadata": {},
   "outputs": [
    {
     "data": {
      "text/plain": [
       "'100'"
      ]
     },
     "execution_count": 23,
     "metadata": {},
     "output_type": "execute_result"
    }
   ],
   "source": [
    "str(100)"
   ]
  },
  {
   "cell_type": "code",
   "execution_count": 24,
   "id": "0f56be9c",
   "metadata": {},
   "outputs": [
    {
     "data": {
      "text/plain": [
       "100"
      ]
     },
     "execution_count": 24,
     "metadata": {},
     "output_type": "execute_result"
    }
   ],
   "source": [
    "int(\"100\")"
   ]
  },
  {
   "cell_type": "code",
   "execution_count": 25,
   "id": "bbe8e495",
   "metadata": {},
   "outputs": [
    {
     "data": {
      "text/plain": [
       "'3.14'"
      ]
     },
     "execution_count": 25,
     "metadata": {},
     "output_type": "execute_result"
    }
   ],
   "source": [
    "str(3.14)"
   ]
  },
  {
   "cell_type": "code",
   "execution_count": 26,
   "id": "c3c73353",
   "metadata": {},
   "outputs": [
    {
     "data": {
      "text/plain": [
       "3.14"
      ]
     },
     "execution_count": 26,
     "metadata": {},
     "output_type": "execute_result"
    }
   ],
   "source": [
    "float(\"3.14\")"
   ]
  },
  {
   "attachments": {},
   "cell_type": "markdown",
   "id": "c0af2de8",
   "metadata": {},
   "source": [
    "### input() 함수\n",
    "* 사용자 입력 정보 활용\n",
    "  * input() 함수는 사용자의 입력을 문자열 형태로 반환함\n",
    "  * 사용자가 키보드를 이용하여 입력을 하고 엔터키를 누르면 input() 함수는 그때까지 입력한 문자들을 모두 하나로 묶어 문자열을 만들어 반환"
   ]
  },
  {
   "cell_type": "code",
   "execution_count": 27,
   "id": "30b1e045",
   "metadata": {},
   "outputs": [
    {
     "name": "stdout",
     "output_type": "stream",
     "text": [
      "10 과 20 의 합은 30 입니다.\n"
     ]
    }
   ],
   "source": [
    "x=int(input(\"첫 번째 정수를 입력하시오:\"))\n",
    "y=int(input(\"두 번째 정수를 입력하시오:\"))\n",
    "s=x+y\n",
    "print(x, \"과\", y, \"의 합은\", s, \"입니다.\")"
   ]
  },
  {
   "cell_type": "markdown",
   "id": "8b8da768",
   "metadata": {},
   "source": [
    "### 연산자"
   ]
  },
  {
   "cell_type": "markdown",
   "id": "9399f856",
   "metadata": {},
   "source": [
    "* 할당 연산자: 등호의 왼쪽이 변수가 아니면 문제가 발생함"
   ]
  },
  {
   "cell_type": "code",
   "execution_count": null,
   "id": "0f861f30",
   "metadata": {},
   "outputs": [],
   "source": [
    "x=20\n",
    "y=10\n",
    "100=x+y #등호의 왼쪽에는 반드시 변수이름이 와야한다"
   ]
  },
  {
   "attachments": {},
   "cell_type": "markdown",
   "id": "92a2b305",
   "metadata": {},
   "source": [
    "* 다중 할당, 동시할당\n",
    "  * x = y = 100과 같이 할 경우 x, y의 값이 모두 100으로 할당되며 이를 다중 할당문multiple assignment이라 함\n",
    "  * n1, n2 = 100, 200과 같이 여러 변수에 한꺼번에 여러 값을 할당할 수도 있는데 이를 동시 할당문simultaneous assignment이라 함"
   ]
  },
  {
   "cell_type": "code",
   "execution_count": null,
   "id": "249dabd1",
   "metadata": {},
   "outputs": [],
   "source": [
    "x=y=100 # 여러 변수에 동일한 값을 할당하는 다중 할당문\n",
    "x, y"
   ]
  },
  {
   "cell_type": "code",
   "execution_count": null,
   "id": "c1e81ba3",
   "metadata": {},
   "outputs": [],
   "source": [
    "n1, n2=100, 200 #여러 변수에 한꺼번에 여러 값을 할당하는 동시 할당문\n",
    "n1, n2"
   ]
  },
  {
   "cell_type": "markdown",
   "id": "a0c5e1cc",
   "metadata": {},
   "source": [
    "### 연산자\n",
    "* 산술 연산: 사칙연산등\n",
    "  * 덧셈(+): 7+4 --> 11\n",
    "  * 뺄셈(-): 7-4 --> 3\n",
    "  * 곱셈( \\* ): 7*4 --> 28\n",
    "  * 지수(** ): 7**2 --> 49\n",
    "  * 나눗셈(정수 나눗셈의 몫; //): 7//4 --> 1\n",
    "  * 나눗셈(실수 나눗셈; /): 7/4 --> 1.75\n",
    "  * 나머지(%): 7%4 --> 3"
   ]
  },
  {
   "attachments": {},
   "cell_type": "markdown",
   "id": "e0cb6101",
   "metadata": {},
   "source": [
    "* 나눗셈 연산자\n",
    "  * 7/4=1.75, 7%4=3 : 나머지, 7//4=1 : 몫\n",
    "  * 짝수, 홀수 구분하기 "
   ]
  },
  {
   "cell_type": "code",
   "execution_count": null,
   "id": "1b963b4b",
   "metadata": {},
   "outputs": [],
   "source": [
    "number=int(input(\"정수를 입력하시오:\"))\n",
    "print(number % 2) #나머지로 연산의 결과가 0이면 짝수, 1이면 홀수이다."
   ]
  },
  {
   "attachments": {},
   "cell_type": "markdown",
   "id": "8d3ec57a",
   "metadata": {},
   "source": [
    "* 거듭제곱 연산자: **\n",
    "  * 2^7을 계산하는 파이썬 수식은 2 ** 7 : 2×2×2×2×2×2×2\n",
    "  * 수학에서처럼 거듭제곱 연산자는 다른 연산자들보다 높은 우선순위를 가짐\n",
    "  * 예를 들어, 10* 2 ** 7은 20^7이 아니라 10×2^7로 계산되어 1280\n",
    "  * 예를 들어, 2 ** 2 ** 3은 (2 ** 2) ** 3가 아니라 2 ** (2 ** 3)로 계산"
   ]
  },
  {
   "cell_type": "code",
   "execution_count": null,
   "id": "42938dd7",
   "metadata": {},
   "outputs": [],
   "source": [
    "print(2**7) #2^7\n",
    "print(10*2**7) #10*(2^7)\n",
    "print(2**2**3) #2^(2^3)"
   ]
  },
  {
   "cell_type": "markdown",
   "id": "8d8b4dad",
   "metadata": {},
   "source": [
    "* 복합할당 연산자"
   ]
  },
  {
   "cell_type": "code",
   "execution_count": null,
   "id": "2bbe1e86",
   "metadata": {},
   "outputs": [],
   "source": [
    "num=200\n",
    "num +=100 #200+100 연산을 수행하여 그 결과를 num에 할당\n",
    "num"
   ]
  },
  {
   "cell_type": "code",
   "execution_count": null,
   "id": "256e3d56",
   "metadata": {},
   "outputs": [],
   "source": [
    "num -=100 #300-100 연산을 수행하여 그 결과를 num에 할당\n",
    "num"
   ]
  },
  {
   "cell_type": "code",
   "execution_count": null,
   "id": "af156860",
   "metadata": {},
   "outputs": [],
   "source": [
    "num *=20 #200*20 연산을 수행하여 그 결과를 num에 할당\n",
    "num"
   ]
  },
  {
   "cell_type": "code",
   "execution_count": null,
   "id": "641615da",
   "metadata": {},
   "outputs": [],
   "source": [
    "num /=2 #4000/2 연산을 수행하여 그 결과를 num에 할당\n",
    "num"
   ]
  },
  {
   "attachments": {},
   "cell_type": "markdown",
   "id": "c94cd499",
   "metadata": {},
   "source": [
    "* 비교 연산자\n",
    "  * ‘크다’ 혹은 ‘작다’와 같은 비교 연산은 수치 데이터를 담고 있는 두 개의 피연산자를 대상으로 크기 관계를 살펴봄 \n",
    "  * True 혹은 False 부울bool형으로  반환함\n",
    "  * 비교 연산자comparison operator의 종류 (a=100, b=200)\n",
    "    * ==(두 피연산자의 값이 같으면 True를 반환); a==b는 Flase\n",
    "    * !=(두 피연산자의 값이 다르면 True를 반환); a!=b는 True\n",
    "    * \\> (왼쪽 피연산자가 오른쪽 피연산자보다 클 때 True를 반환); a>b는 Flase\n",
    "    * \\< (왼쪽 피연산자가 오른쪽 피연산자보다 작을 때 True를 반환); a<b는 True\n",
    "    * \\>= (왼쪽 피연산자가 오른쪽 피연산자보다 크거나 같을 때 True를 반환); a>=b는 Flase\n",
    "    * \\<= (왼쪽 피연산자가 오른쪽 피연산자보다 작거나 같을 때 True를 반환); a<=b는 True"
   ]
  },
  {
   "cell_type": "code",
   "execution_count": null,
   "id": "dec9e930",
   "metadata": {},
   "outputs": [],
   "source": [
    "a, b=100, 200 #a에는 100, b에는 200을 할당하는 동시할당문\n",
    "a==b"
   ]
  },
  {
   "cell_type": "code",
   "execution_count": null,
   "id": "58f0748f",
   "metadata": {},
   "outputs": [],
   "source": [
    "a !=b"
   ]
  },
  {
   "cell_type": "code",
   "execution_count": null,
   "id": "fff9e586",
   "metadata": {},
   "outputs": [],
   "source": [
    "a>b"
   ]
  },
  {
   "cell_type": "code",
   "execution_count": null,
   "id": "53d96a2c",
   "metadata": {},
   "outputs": [],
   "source": [
    "a<b"
   ]
  },
  {
   "cell_type": "code",
   "execution_count": null,
   "id": "f578c8fa",
   "metadata": {},
   "outputs": [],
   "source": [
    "a>=b"
   ]
  },
  {
   "cell_type": "markdown",
   "id": "c86679e7",
   "metadata": {},
   "source": [
    "  * !=, >= 와 같이 두 개의 문자로 이루어진 비교연산자를 사용할 때 띄어 쓰거나 순서를 바꾸면 안되며, 두 문자 사이에 공백을 넣어서도 안됨"
   ]
  },
  {
   "cell_type": "code",
   "execution_count": null,
   "id": "b99268e6",
   "metadata": {},
   "outputs": [],
   "source": [
    "a > = b #두 개의 기호로 표현된 비교 연산자는 띄어쓰면 안된다(error)"
   ]
  },
  {
   "cell_type": "code",
   "execution_count": null,
   "id": "4e5aacad",
   "metadata": {},
   "outputs": [],
   "source": [
    "a = > b #두 개의 기호로 표현된 비교 연산자의 순서를 뒤집어도 안된다(error)"
   ]
  },
  {
   "attachments": {},
   "cell_type": "markdown",
   "id": "9d77df66",
   "metadata": {},
   "source": [
    "* 논리 연산자\n",
    "  * and, or, not 논리 연산자logical operator \n",
    "  * 논리 and, or, not 연산을 통해 True나 False 중 하나의 값을 가지는 부울bool 값을 반환\n",
    "    * x and y: x와 y 중 거짓(False)이 하나라도 있으면 거짓이 되며 모두 참(True)인 경우에만 참이다.\n",
    "    * x or y: x와 y 중 하나라도 참이면 참이 되며, 모두 거짓일 때만 거짓이 된다.\n",
    "    * not x: x가 참이면 거짓, x가 거짓이면 참이 된다."
   ]
  },
  {
   "attachments": {},
   "cell_type": "markdown",
   "id": "30cb1acf",
   "metadata": {},
   "source": [
    "### 모듈\n",
    "* random 모듈의 기능\n",
    "  * 모듈(module)은 변수, 함수, 클래스 등을 모아 놓은 스크립트 파일이고,  패키지(package)는 여러 모듈을 묶은 것\n",
    "  * random 모듈은 임의의 수를 생성하거나, 리스트나 튜플내의 요소를 무작위로 섞거나, 선택하는 함수를 포함하고 있음"
   ]
  },
  {
   "cell_type": "code",
   "execution_count": null,
   "id": "d42da35f",
   "metadata": {},
   "outputs": [],
   "source": [
    "import random\n",
    "random.random() #0이상 1 미만의 임의의 실수를 반환"
   ]
  },
  {
   "cell_type": "code",
   "execution_count": null,
   "id": "463efc67",
   "metadata": {},
   "outputs": [],
   "source": [
    "random.random() #이함수는 매번 다른 실수를 반환"
   ]
  },
  {
   "cell_type": "code",
   "execution_count": null,
   "id": "9230f559",
   "metadata": {},
   "outputs": [],
   "source": [
    "random.randint(1, 7) # 1이상 7이하의 임의의 정수를 반환"
   ]
  },
  {
   "cell_type": "code",
   "execution_count": null,
   "id": "9fb0456b",
   "metadata": {},
   "outputs": [],
   "source": [
    "random.randrange(7) # 0이상 7미만의 임의의 정수를 반환"
   ]
  },
  {
   "cell_type": "code",
   "execution_count": null,
   "id": "5451357f",
   "metadata": {},
   "outputs": [],
   "source": [
    "random.randrange(1, 7) # 1이상 7미만의 임의의 정수를 반환"
   ]
  },
  {
   "cell_type": "code",
   "execution_count": null,
   "id": "733c54ec",
   "metadata": {},
   "outputs": [],
   "source": [
    "random.randrange(0, 10, 2) # 0, 2, 4, 8 중(10은 포함 안됨) 하나를 반환"
   ]
  },
  {
   "cell_type": "code",
   "execution_count": null,
   "id": "35b87dff",
   "metadata": {},
   "outputs": [],
   "source": [
    "lst=[10, 20, 30, 40, 50] #여러개의 값을 가지는 리스트를 생성함\n",
    "random.shuffle(lst) #lst 리스트의 순서를 무작위로 섞음\n",
    "lst"
   ]
  },
  {
   "cell_type": "code",
   "execution_count": null,
   "id": "e38538bf",
   "metadata": {},
   "outputs": [],
   "source": [
    "random.choice(lst) #lst 리스트의 원소 중 무작위로 하나를 고름"
   ]
  },
  {
   "attachments": {},
   "cell_type": "markdown",
   "id": "38be3985",
   "metadata": {},
   "source": [
    "### if 문\n",
    "* if문의 구조  \n",
    "  * if문은 다음과 같이 구성됨\n",
    "\n",
    "\n",
    "    if 조건식:\n",
    "          실행할 내용\n",
    "          \n",
    "\n",
    "    * 조건식은 어떤 조건condition을 만족하는지 그렇지 않은지를 판정하는 식을 의미하며, 참(true) 또는 거짓(false)의 값을 갖는 부울bool형으로 평가됨 \n",
    "    * 조건식이 참인 경우 실행이 되고 그렇지 않으면 건너뜀"
   ]
  },
  {
   "attachments": {},
   "cell_type": "markdown",
   "id": "f1a1aa34",
   "metadata": {},
   "source": [
    "* 들여쓰기\n",
    "  * 들여쓰기를 이용하여서 문장들을 묶을 수 있음 --> 들여쓰기한 위치가 같으면 동일한 블록block에 속해 있음을 의미\n",
    "  * if문은 조건식이 참인 경우 콜론 뒤에 오는 블록을 모두 실행함"
   ]
  },
  {
   "cell_type": "code",
   "execution_count": null,
   "id": "f38bc465",
   "metadata": {},
   "outputs": [],
   "source": [
    "score=int(input(\"점수를 입력하시오:\"))\n",
    "if score >= 90:   #조건이 참일 경우 들여쓰기 블록이 모두 실행됨\n",
    "    print(\"축하합니다.\")\n",
    "    print(\"합격입니다.\")\n",
    "    print(\"장학금도 받을 수 있습니다.\")"
   ]
  },
  {
   "attachments": {},
   "cell_type": "markdown",
   "id": "fd3482b4",
   "metadata": {},
   "source": [
    "* if-elif-else 문\n",
    "  * if-else 문에서 조건이 거짓일 때 다른 조건을 검사할 수 있음"
   ]
  },
  {
   "cell_type": "code",
   "execution_count": null,
   "id": "9819f1e6",
   "metadata": {},
   "outputs": [],
   "source": [
    "num=int(input(\"점수를 입력하시오:\"))\n",
    "\n",
    "if num > 0:\n",
    "    print(\"양수입니다.\")\n",
    "elif num == 0:\n",
    "    print(\"0입니다.\")\n",
    "else:\n",
    "    print(\"음수입니다.\")"
   ]
  },
  {
   "attachments": {},
   "cell_type": "markdown",
   "id": "026e1a0c",
   "metadata": {},
   "source": [
    "* 논리 연산자와 활용\n",
    "  * 논리 연산자와 활용\n",
    "    * 두 조건이 동시에 만족되는지 평가하는 조건식: (조건1) and (조건2)\n",
    "    * 두 조건 중 하나 이상이 만족되는지 평가하는 조건식: (조건1) or (조건2)\n",
    "    * (실습1) 입력 받은 양의 정수가 짝수이면서 10보다 작은지 확인"
   ]
  },
  {
   "cell_type": "code",
   "execution_count": null,
   "id": "9adbd4c2",
   "metadata": {},
   "outputs": [],
   "source": [
    "num=int(input(\"점수를 입력하시오:\"))\n",
    "\n",
    "if (num % 2 ==0) and (num < 10):\n",
    "    print(\"짝수이면서 10보다 작습니다.\")\n",
    "elif (num % 2 ==0):\n",
    "    print(\"짝수이면서 10보다 큽니다.\")\n",
    "else:\n",
    "    print(\"홀수입니다.\")"
   ]
  },
  {
   "cell_type": "markdown",
   "id": "656ef743",
   "metadata": {},
   "source": [
    "### 반복문\n",
    "* range() 사용; 100번 반복 range(100)"
   ]
  },
  {
   "cell_type": "code",
   "execution_count": null,
   "id": "5d768c2c",
   "metadata": {},
   "outputs": [],
   "source": [
    "for i in range(100):\n",
    "    print(\"파이썬 주식회사의 방문을 환영합니다!\")"
   ]
  },
  {
   "cell_type": "markdown",
   "id": "f49545e6",
   "metadata": {},
   "source": [
    "* 리스트 활용: [...]은 리스트 자료형"
   ]
  },
  {
   "cell_type": "code",
   "execution_count": null,
   "id": "b31da3ab",
   "metadata": {},
   "outputs": [],
   "source": [
    "for i in [1,2,3,4,5]:  # in 뒤에 리스트를 넣고 끝에 :을 넣자\n",
    "    print(\"i=\", i)     # i 값을 출력해보자"
   ]
  },
  {
   "attachments": {},
   "cell_type": "markdown",
   "id": "de927deb",
   "metadata": {},
   "source": [
    "* 문자열 활용\n",
    "  * 문자열 적용 가능"
   ]
  },
  {
   "cell_type": "code",
   "execution_count": null,
   "id": "505f8cb5",
   "metadata": {},
   "outputs": [],
   "source": [
    "for i in \"Hello\":   # 끝에 :이 있어야 함\n",
    "    print(\"i=\", i)  # i 값을 출력해보자"
   ]
  },
  {
   "cell_type": "markdown",
   "id": "add53b43",
   "metadata": {},
   "source": [
    "* range() 함수\n",
    "  * range(start, stop, step) start에서 시작 (stop-1)까지 step 간격으로 정수들이 생성됨"
   ]
  },
  {
   "cell_type": "code",
   "execution_count": null,
   "id": "3dc27270",
   "metadata": {},
   "outputs": [],
   "source": [
    "for i in range(1, 6, 1):\n",
    "    print(i, end=\" \")     # end=\"\"로 지정하면 줄바꿈을 하지 않고 공백으로 나열한다."
   ]
  },
  {
   "cell_type": "code",
   "execution_count": null,
   "id": "771937db",
   "metadata": {},
   "outputs": [],
   "source": [
    "for i in range(10, 0, -1): # 10부터 1까지 내림차순\n",
    "    print(i, end=\" \") "
   ]
  },
  {
   "attachments": {},
   "cell_type": "markdown",
   "id": "9a608f7b",
   "metadata": {},
   "source": [
    "* while 문\n",
    "  * 어떤 조건이 만족되는 동안 반복하는 조건 제어 반복문"
   ]
  },
  {
   "cell_type": "code",
   "execution_count": null,
   "id": "a8bb3fef",
   "metadata": {},
   "outputs": [],
   "source": [
    "count=1\n",
    "s=0         # s는 누적하여 더한 값을 담을 변수로 0으로 초기화 함\n",
    "while count <= 10:\n",
    "    s=s+count      # 매번 count 값을 s에 더함\n",
    "    count=count+1  # 매번 count 값을 1에 더함\n",
    "print(\"합계는\", s)    "
   ]
  },
  {
   "cell_type": "markdown",
   "id": "e6a89b7c",
   "metadata": {},
   "source": [
    "* continue 문\n",
    "  * 루프를 빠져나오지 않고 continue 아래의 문장만을 건너뜀 --> 즉 반복문이 종료되는 것은 조건이 거짓일 때에만 해당함"
   ]
  },
  {
   "cell_type": "code",
   "execution_count": null,
   "id": "274b878e",
   "metadata": {},
   "outputs": [],
   "source": [
    "st='I love Python Programing' # 출력을 위한 문자열\n",
    "for ch in st:\n",
    "    if ch in ['a','e','i','o','u', 'A','E', 'I', 'O','U']:\n",
    "        continue     #모음일 경우 아래 출력을 건너띈다.\n",
    "    print(ch, end='')    "
   ]
  },
  {
   "attachments": {},
   "cell_type": "markdown",
   "id": "0297c01c",
   "metadata": {},
   "source": [
    "### 함수\n",
    "* def 예약어를 활용한 함수 정의\n",
    "  * 함수 안으로 값(정보)을 전달 --> 인자argument라고 함\n",
    "  * 함수가 보내는 값 --> 반환 값return value이라고 함"
   ]
  },
  {
   "cell_type": "code",
   "execution_count": null,
   "id": "7b49087d",
   "metadata": {},
   "outputs": [],
   "source": [
    "def calculate_area(redius):\n",
    "    area=3.14*redius**2\n",
    "    return area         # 이전 줄에서 구한 area 값을 호출문에 돌려준다"
   ]
  },
  {
   "cell_type": "code",
   "execution_count": null,
   "id": "7526f59e",
   "metadata": {},
   "outputs": [],
   "source": [
    "c_area=calculate_area(5.0) # calculate_area() 함수가 계산한 값을 c_area에 저장"
   ]
  },
  {
   "cell_type": "code",
   "execution_count": null,
   "id": "ab7b811c",
   "metadata": {},
   "outputs": [],
   "source": [
    "print(calculate_area(5.0))"
   ]
  },
  {
   "cell_type": "code",
   "execution_count": null,
   "id": "8b8e47e5",
   "metadata": {},
   "outputs": [],
   "source": [
    "area_sum=calculate_area(5.0)+calculate_area(10.0)\n",
    "print(area_sum)"
   ]
  },
  {
   "attachments": {},
   "cell_type": "markdown",
   "id": "d3554d22",
   "metadata": {},
   "source": [
    "* 여러 개의 인자\n",
    "  * 2개의 정수 start와 end를 받아서 start에서 end까지의 합을 계산하는 함수 get_sum()을 작성"
   ]
  },
  {
   "cell_type": "code",
   "execution_count": null,
   "id": "63505bfd",
   "metadata": {},
   "outputs": [],
   "source": [
    "def get_sum(start, end):            # start, end를 매개변수로하여 인자를 받는다.\n",
    "    s=0\n",
    "    for i in range(start, end+1):   # start부터 end까지 정수의 합을 구함\n",
    "        s +=i \n",
    "    return s                        # start부터 end까지 수의 합을 반환한다.\n",
    "\n",
    "print(get_sum(1, 10))               # 1에서 10까지 정수의 합 55를 출력한다."
   ]
  },
  {
   "attachments": {},
   "cell_type": "markdown",
   "id": "0f7379b7",
   "metadata": {},
   "source": [
    "  * 큰 수부터 작은 수 순서로 정렬하는 함수 작성"
   ]
  },
  {
   "cell_type": "code",
   "execution_count": null,
   "id": "0d0f2d09",
   "metadata": {},
   "outputs": [],
   "source": [
    "def sort_num(n1, n2):      # 2개의 값을 받아오는 함수\n",
    "    if n1 < n2:            # n1이 더 작으면 n1, n2 순서로 반환\n",
    "        return n1, n2      \n",
    "    else:\n",
    "        return n2, n1      # n2이 더 작으면 n2, n1 순서로 반환\n",
    "    \n",
    "print(sort_num(110, 210))  #110과 210을 함수의 인자로 전달하고 반환되는 값을 출력\n",
    "print(sort_num(2100, 80)) "
   ]
  },
  {
   "cell_type": "markdown",
   "id": "a0ba20e0",
   "metadata": {},
   "source": [
    "* 지역변수\n",
    "  * 함수 안에서 생성되는 변수를 지역변수local variable라고 함\n",
    "  * 이 지역변수 counter가 참조하는 값 200은 전역변수가 참조하는 값 100과 별개의 메모리에 있으며, 지역변수는 함수가 종료되면 사라짐"
   ]
  },
  {
   "cell_type": "code",
   "execution_count": null,
   "id": "dc43a61b",
   "metadata": {},
   "outputs": [],
   "source": [
    "def print_counter():\n",
    "    counter=200\n",
    "    print('counter=', counter)  # 함수 내부의 counter 값\n",
    "    \n",
    "counter=100\n",
    "print_counter()\n",
    "print('counter=', counter)      # 함수 외부의 counter 값"
   ]
  },
  {
   "cell_type": "markdown",
   "id": "e5010f45",
   "metadata": {},
   "source": [
    "* 함수 내에서 전역변수 활용\n",
    "  * 만일 함수 내부에서 새로 변수를 만들지 않고 전역변수인 counter를 불러서 사용 --> global이라는 키워드를 사용\n",
    "  * 전역변수를 많이 사용할 경우 프로그램에서 어느 부분에서 오류가 발생했는지 추적하기가 어려움"
   ]
  },
  {
   "cell_type": "code",
   "execution_count": null,
   "id": "3ec4a9c1",
   "metadata": {},
   "outputs": [],
   "source": [
    "def print_counter():\n",
    "    global counter         # 함수 외부의 전역변수 counter를 사용하겠다는 선언\n",
    "    counter=200\n",
    "    print('counter=', counter)  # 함수 내부의 counter 값\n",
    "    \n",
    "counter=100\n",
    "print_counter()\n",
    "print('counter=', counter)      # 함수 외부의 counter"
   ]
  },
  {
   "cell_type": "markdown",
   "id": "f51f0bc1",
   "metadata": {},
   "source": [
    "* 디폴트 인자\n",
    "  * 인자에 기본값을 넣어줌 --> 디폴트 인자"
   ]
  },
  {
   "cell_type": "code",
   "execution_count": null,
   "id": "633e756e",
   "metadata": {},
   "outputs": [],
   "source": [
    "def order(num, pickle=True, onion=True):\n",
    "    print('햄버거 {0} 개 - 피클 {1}, 양파 {2}'. format(num, pickle, onion))\n",
    "    \n",
    "order(1, pickle=True, onion=True)\n",
    "order(2)     # 햄버거 2개를 주문, 디폴트로 pickle, onion 값은 True임"
   ]
  },
  {
   "cell_type": "markdown",
   "id": "2bbed17e",
   "metadata": {},
   "source": [
    "* 키워드 인자\n",
    "  * 파이썬에서 대부분의 인자들은 함수 호출 시에 위치에 의하여 구별됨"
   ]
  },
  {
   "cell_type": "code",
   "execution_count": null,
   "id": "415560bd",
   "metadata": {},
   "outputs": [],
   "source": [
    "def power(base, exponent):\n",
    "    return base**exponent    # base가 밑이고, exponent가 지수값이다."
   ]
  },
  {
   "cell_type": "code",
   "execution_count": null,
   "id": "3261c8f6",
   "metadata": {},
   "outputs": [],
   "source": [
    "power(2, 10)  # 2의 10승을 반환한다."
   ]
  },
  {
   "cell_type": "code",
   "execution_count": null,
   "id": "6ab9246d",
   "metadata": {},
   "outputs": [],
   "source": [
    "power(10, 2)  # 10의 2승을 반환한다."
   ]
  },
  {
   "cell_type": "code",
   "execution_count": null,
   "id": "13ab75a4",
   "metadata": {},
   "outputs": [],
   "source": [
    "power(base=2, exponent=10) # 2의 10승을 반환한다."
   ]
  },
  {
   "cell_type": "code",
   "execution_count": null,
   "id": "62c0580f",
   "metadata": {},
   "outputs": [],
   "source": [
    "power(exponent=10, base=2) # 2의 10승을 반환한다."
   ]
  },
  {
   "cell_type": "markdown",
   "id": "8e085725",
   "metadata": {},
   "source": [
    "* 재귀 함수\n",
    "  * 재귀함수recursion란 함수 내부에서 자기 자신을 호출하는 함수를 말함\n",
    "  * 팩토리얼 식과 정의 : n! = n * (n – 1)!"
   ]
  },
  {
   "cell_type": "code",
   "execution_count": null,
   "id": "6476f8d7",
   "metadata": {},
   "outputs": [],
   "source": [
    "def factorial(n):                # n!의 재귀적 구현\n",
    "    if n <= 1:                   # 종료 조건이 반드시 필요하다.\n",
    "        return 1\n",
    "    else:\n",
    "        return n*factorial(n-1)  # n*(n-1)! 정의에 따른 구현\n",
    "    \n",
    "print('4!=', factorial(4))   # 인자로 4를 넣어 호출"
   ]
  },
  {
   "cell_type": "code",
   "execution_count": null,
   "id": "453d9305",
   "metadata": {},
   "outputs": [],
   "source": []
  }
 ],
 "metadata": {
  "kernelspec": {
   "display_name": "Python 3 (ipykernel)",
   "language": "python",
   "name": "python3"
  },
  "language_info": {
   "codemirror_mode": {
    "name": "ipython",
    "version": 3
   },
   "file_extension": ".py",
   "mimetype": "text/x-python",
   "name": "python",
   "nbconvert_exporter": "python",
   "pygments_lexer": "ipython3",
   "version": "3.11.2"
  }
 },
 "nbformat": 4,
 "nbformat_minor": 5
}
