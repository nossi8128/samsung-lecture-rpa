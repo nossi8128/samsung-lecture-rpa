{
 "cells": [
  {
   "cell_type": "markdown",
   "id": "2c5fd9bc",
   "metadata": {},
   "source": [
    "# 파이썬 기초 2\n",
    "### 1. 리스트\n",
    "* 리스트의 정의\n",
    "  * 여러 변수들을 일련변호로 저장\n",
    "  * 파이썬에서 리스트는 대괄호 [ ]를 이용해서 만들 수 있음"
   ]
  },
  {
   "cell_type": "code",
   "execution_count": null,
   "id": "5737887a",
   "metadata": {},
   "outputs": [],
   "source": [
    "heights=[178.9, 173.5, 166.1, 164.3, 176.4]\n",
    "heights"
   ]
  },
  {
   "cell_type": "markdown",
   "id": "34a3c440",
   "metadata": {},
   "source": [
    "  * 항목들을 [ ] 안에 적어주고 변수에 저장하면 리스트 변수가 생성됨"
   ]
  },
  {
   "cell_type": "code",
   "execution_count": null,
   "id": "5fb53afe",
   "metadata": {},
   "outputs": [],
   "source": [
    "bts=['V', 'Junggkook', 'Jimin']"
   ]
  },
  {
   "cell_type": "markdown",
   "id": "bd6e4d9e",
   "metadata": {},
   "source": [
    "  * 빈 리스트도 만들 수 있으며, append 메소드를 사용하면 리스트에 항목을 추가할 수 있음"
   ]
  },
  {
   "cell_type": "code",
   "execution_count": null,
   "id": "46e5e64e",
   "metadata": {},
   "outputs": [],
   "source": [
    "bts=[]\n",
    "bts.append(\"V\")\n",
    "bts"
   ]
  },
  {
   "cell_type": "code",
   "execution_count": null,
   "id": "2b97e210",
   "metadata": {},
   "outputs": [],
   "source": [
    "bts.append(\"Junggkook\")\n",
    "bts.append(\"Jimin\")\n",
    "bts"
   ]
  },
  {
   "cell_type": "code",
   "execution_count": null,
   "id": "52bea4da",
   "metadata": {},
   "outputs": [],
   "source": [
    "bts=['V', 'Jin', 'Suga', 'Junggkook']\n",
    "bts=bts+['RM']   # 덧셈 연산자로 멤버 'RM'을 추가함\n",
    "bts"
   ]
  },
  {
   "cell_type": "code",
   "execution_count": null,
   "id": "052c36b0",
   "metadata": {},
   "outputs": [],
   "source": [
    "list(range(5))   # 0에서 5사이의 정수열을 생성(5는 포함안됨)"
   ]
  },
  {
   "cell_type": "code",
   "execution_count": null,
   "id": "185d20ef",
   "metadata": {},
   "outputs": [],
   "source": [
    "list(range(0, 5))   # list(range(5))와 동일한 결과"
   ]
  },
  {
   "cell_type": "code",
   "execution_count": null,
   "id": "8aa3c326",
   "metadata": {},
   "outputs": [],
   "source": [
    "list(range(0, 5, 1))  # list(range(0, 5))와 동일한 결과 "
   ]
  },
  {
   "cell_type": "code",
   "execution_count": null,
   "id": "637074de",
   "metadata": {},
   "outputs": [],
   "source": [
    "list(range(0, 5, 2))  # 생성하는 값이 2씩 증가시킴"
   ]
  },
  {
   "cell_type": "code",
   "execution_count": null,
   "id": "7d00e5e3",
   "metadata": {},
   "outputs": [],
   "source": [
    "list(range(2, 5,))   # 2에서 5-1까지 연속된 수 2, 3, 4을 생성"
   ]
  },
  {
   "cell_type": "markdown",
   "id": "c9ced42b",
   "metadata": {},
   "source": [
    "* 리스트 함수: 더하기\n",
    "      * 덧셈 연산으로 다음과 같이 두 개의 리스트를 합칠 수 있음"
   ]
  },
  {
   "cell_type": "code",
   "execution_count": null,
   "id": "5d30f077",
   "metadata": {},
   "outputs": [],
   "source": [
    "bts=['V', 'J-Hope']+['RM', 'Jungkook', 'Jin']\n",
    "bts"
   ]
  },
  {
   "cell_type": "markdown",
   "id": "ccdb81aa",
   "metadata": {},
   "source": [
    "  * 정수 리스트를 서로 더했을 때는 대응되는 원소끼리 더해지는 것이 아니라 리스트가 합쳐짐\n",
    "    * 대응되는 원소끼리 더하려면 넘파이(NumPy)를 사용"
   ]
  },
  {
   "cell_type": "code",
   "execution_count": null,
   "id": "03b9d744",
   "metadata": {},
   "outputs": [],
   "source": [
    "numbers=[10, 20, 30]+[40, 50, 60]\n",
    "numbers"
   ]
  },
  {
   "cell_type": "code",
   "execution_count": null,
   "id": "5f860dc0",
   "metadata": {},
   "outputs": [],
   "source": [
    "import numpy as np\n",
    "numbers=np.add([10, 20, 30],[40, 50, 60])\n",
    "numbers"
   ]
  },
  {
   "cell_type": "markdown",
   "id": "e5f0287c",
   "metadata": {},
   "source": [
    "* 리스트 함수: 항목 포함여부 확인"
   ]
  },
  {
   "cell_type": "code",
   "execution_count": null,
   "id": "4feebd48",
   "metadata": {},
   "outputs": [],
   "source": [
    "bts=['V', 'Jin', 'Suga', 'Junggkook', 'RM']\n",
    "'V' in bts"
   ]
  },
  {
   "cell_type": "code",
   "execution_count": null,
   "id": "bb3b6120",
   "metadata": {},
   "outputs": [],
   "source": [
    "'V' not in bts"
   ]
  },
  {
   "cell_type": "markdown",
   "id": "76a3536d",
   "metadata": {},
   "source": [
    "* 여러 타입의 데이터를 섞어서 리스트 저장\n",
    "  * 필요에 따라서 하나의 리스트 안에 여러 가지 타입의 데이터를 섞어서 저장하는 것도 가능"
   ]
  },
  {
   "cell_type": "code",
   "execution_count": null,
   "id": "6f40ffc8",
   "metadata": {},
   "outputs": [],
   "source": [
    "slist1=['Kim', 178.9, 'Park', 173.5, 'Lee', 176.1]\n",
    "slist1"
   ]
  },
  {
   "cell_type": "markdown",
   "id": "b569994a",
   "metadata": {},
   "source": [
    "  * 리스트를 리스트 안에 포함시키는 것도 가능"
   ]
  },
  {
   "cell_type": "code",
   "execution_count": null,
   "id": "676385be",
   "metadata": {},
   "outputs": [],
   "source": [
    "slist1=[['Kim', 178.9], ['Park', 173.5], ['Lee', 176.1]]\n",
    "slist1"
   ]
  },
  {
   "cell_type": "markdown",
   "id": "b6d883b8",
   "metadata": {},
   "source": [
    "*  리스트 사용 가능한 함수\n",
    "  * 리스트에 다음과 같은 수치값이 있을 경우 len(), max(), min(), sum() 등의 내장함수를 사용하여 편리하게 활용할 수 있음\n",
    "  * len()은 리스트의 길이를 반환하며, max()는 리스트 항목중 최댓값, min()은 리스트 항목중 최솟값을 반환함\n"
   ]
  },
  {
   "cell_type": "code",
   "execution_count": null,
   "id": "1775b923",
   "metadata": {},
   "outputs": [],
   "source": [
    "n_list=[200, 700, 500, 300, 400]\n",
    "len(n_list)"
   ]
  },
  {
   "cell_type": "code",
   "execution_count": null,
   "id": "53fd653f",
   "metadata": {},
   "outputs": [],
   "source": [
    "max(n_list)"
   ]
  },
  {
   "cell_type": "code",
   "execution_count": null,
   "id": "7f16f8c4",
   "metadata": {},
   "outputs": [],
   "source": [
    "min(n_list)"
   ]
  },
  {
   "cell_type": "code",
   "execution_count": null,
   "id": "b714dbe0",
   "metadata": {},
   "outputs": [],
   "source": [
    "sum(n_list)"
   ]
  },
  {
   "cell_type": "markdown",
   "id": "fde19483",
   "metadata": {},
   "source": [
    "* 리스트 항목 접근\n",
    "  * 리스트에서 데이터를 추출하려면 인덱스index라는 정수를 사용함\n",
    "  * 리스트의 첫 번째 데이터는 인덱스 0을, 두 번째 요소는 인덱스 1을 가지게 되며, 나머지 요소들도 유사하게 인덱스가 할당됨"
   ]
  },
  {
   "cell_type": "code",
   "execution_count": null,
   "id": "53d7b824",
   "metadata": {},
   "outputs": [],
   "source": [
    "letters=['A', 'B', 'C', 'D', 'E', 'F']\n",
    "letters[1]"
   ]
  },
  {
   "cell_type": "code",
   "execution_count": null,
   "id": "a3413043",
   "metadata": {},
   "outputs": [],
   "source": [
    "letters[2]"
   ]
  },
  {
   "cell_type": "code",
   "execution_count": null,
   "id": "f6027045",
   "metadata": {},
   "outputs": [],
   "source": [
    "letters[-1] # 리스트의 마지막 항목에 접근"
   ]
  },
  {
   "cell_type": "markdown",
   "id": "08d64313",
   "metadata": {},
   "source": [
    "* 슬라이싱\n",
    "  * 리스트에서 여러 요소를 선택해서 새로운 리스트를 만들고 싶다면, 슬라이싱slicing이라고 하는 기능을 사용할 수 있음"
   ]
  },
  {
   "cell_type": "code",
   "execution_count": null,
   "id": "e56a1a72",
   "metadata": {},
   "outputs": [],
   "source": [
    "letters=['A', 'B', 'C', 'D', 'E', 'F']\n",
    "letters[2:5]"
   ]
  },
  {
   "cell_type": "code",
   "execution_count": null,
   "id": "fd061cb0",
   "metadata": {},
   "outputs": [],
   "source": [
    "letters[3:]"
   ]
  },
  {
   "cell_type": "code",
   "execution_count": null,
   "id": "7990aaa7",
   "metadata": {},
   "outputs": [],
   "source": [
    "letters[:]"
   ]
  },
  {
   "cell_type": "code",
   "execution_count": null,
   "id": "92283018",
   "metadata": {},
   "outputs": [],
   "source": [
    "letters[::2]"
   ]
  },
  {
   "cell_type": "code",
   "execution_count": null,
   "id": "15859843",
   "metadata": {},
   "outputs": [],
   "source": [
    "letters[::-1]  # 뒤에서부터 앞으로 읽어오며 원소를 생성한다."
   ]
  },
  {
   "cell_type": "markdown",
   "id": "3d744a86",
   "metadata": {},
   "source": [
    "* 항목 값 변경\n",
    "  * 리스트에 저장된 항목을 변경하려면, 원하는 항목을 인덱스를 이용하여 지정한 후에 할당연산자로 새 값을 할당하면 됨"
   ]
  },
  {
   "cell_type": "code",
   "execution_count": null,
   "id": "7630a5dc",
   "metadata": {},
   "outputs": [],
   "source": [
    "slist=['Kim', 178.9, 'Park', 173.5, 'Lee', 176.1]\n",
    "slist[2:4]=['Paik', 180.0]\n",
    "slist"
   ]
  },
  {
   "cell_type": "code",
   "execution_count": null,
   "id": "ab62d0a3",
   "metadata": {},
   "outputs": [],
   "source": [
    "slist[3]=175.0  \n",
    "slist"
   ]
  },
  {
   "cell_type": "code",
   "execution_count": null,
   "id": "8018511b",
   "metadata": {},
   "outputs": [],
   "source": [
    "slist.insert(4, \"Hong\")\n",
    "slist.insert(5, 168.1)\n",
    "slist"
   ]
  },
  {
   "cell_type": "markdown",
   "id": "82967bfb",
   "metadata": {},
   "source": [
    "*  항목 삭제하기\n",
    "  * 삭제를 위해서는 remove(), pop() 메소드 그리고 del 명령을 사용할 수 있음\n",
    "    * remove() 메소드는 다음과 같이 리스트에서 지정된 항목을 삭제함"
   ]
  },
  {
   "cell_type": "code",
   "execution_count": null,
   "id": "eb3431db",
   "metadata": {},
   "outputs": [],
   "source": [
    "bts=['V', 'J-Hope','Suga', 'Jungkook']\n",
    "bts.remove('Jungkook')\n",
    "bts"
   ]
  },
  {
   "cell_type": "code",
   "execution_count": null,
   "id": "b7c03fb0",
   "metadata": {},
   "outputs": [],
   "source": [
    "if \"Suga\" in bts:\n",
    "    bts.remove(\"Suga\")"
   ]
  },
  {
   "cell_type": "markdown",
   "id": "11cc0b1b",
   "metadata": {},
   "source": [
    "    * pop() 역시 리스트에서 항목을 삭제하는 역할을 하는데 remove()와는 달리 리스트의 마지막 항목을 삭제하여 그 항목 값을 반환함"
   ]
  },
  {
   "cell_type": "code",
   "execution_count": null,
   "id": "d4e6e502",
   "metadata": {},
   "outputs": [],
   "source": [
    "bts=['V', 'J-Hope','Suga', 'Jungkook']\n",
    "last_member=bts.pop()   # 마지막 항목 'Jungkook'을 삭제하여 반환한다.\n",
    "last_member             # 삭제된 항목을 출력하자"
   ]
  },
  {
   "cell_type": "code",
   "execution_count": null,
   "id": "9b39b4ce",
   "metadata": {},
   "outputs": [],
   "source": [
    "bts                     # bts 리스트에 마지막 항목이 삭제되었는가 확인하자"
   ]
  },
  {
   "cell_type": "markdown",
   "id": "c8bcbf39",
   "metadata": {},
   "source": [
    "    * del 명령어는 리스트의 메소드가 아니므로 주의를 기울여야 함\n",
    "    * 이 명령어는 파이썬의 키워드인데 다음과 같이 인덱스를 사용하여 해당하는 항목을 메모리에서 삭제할 수도 있음"
   ]
  },
  {
   "cell_type": "code",
   "execution_count": null,
   "id": "45110041",
   "metadata": {},
   "outputs": [],
   "source": [
    "bts=['V', 'J-Hope','Suga', 'Jungkook']\n",
    "del bts[0]             # 리스트의 첫 항목을 삭제하는 명령어\n",
    "bts"
   ]
  },
  {
   "cell_type": "markdown",
   "id": "816b8cf8",
   "metadata": {},
   "source": [
    "* 참조\n",
    "  * alist라는 새로운 리스트를 만들면 파이썬은 컴퓨터 메모리에 리스트를 저장한 후에, 리스트의 주소를 alist 변수에 저장함"
   ]
  },
  {
   "cell_type": "code",
   "execution_count": null,
   "id": "e08ba41e",
   "metadata": {},
   "outputs": [],
   "source": [
    "alist=['Kim', 'Park', 'Lee', 'Hong']"
   ]
  },
  {
   "cell_type": "markdown",
   "id": "0e44cce0",
   "metadata": {},
   "source": [
    "  * 여기서 blist의 인덱스 1의 원소를 변경하였음에도, alist 인덱스 1의 원소도 바뀌어 있는 것을 알 수 있음"
   ]
  },
  {
   "cell_type": "code",
   "execution_count": null,
   "id": "1b7a2ddb",
   "metadata": {},
   "outputs": [],
   "source": [
    "blist=alist\n",
    "blist[1]='Choi'   # blist의 두 번째 항목값을 변경함\n",
    "alist"
   ]
  },
  {
   "cell_type": "markdown",
   "id": "3c0ac9d1",
   "metadata": {},
   "source": [
    "* 동일한 내용을 가지는 새로운 리스트 생성\n",
    "  * 만약 동일한 내용을 가지는 새로운 리스트를 생성하고 싶은 경우에는, 단순히 등호를 써주면 안되고   'list()' 함수를 사용해야 함\n",
    "  * list() 함수를 사용하면 원래 리스트의 복사본이 생성되며 blist는 이 복사본을 참조함"
   ]
  },
  {
   "cell_type": "code",
   "execution_count": null,
   "id": "b236e2ac",
   "metadata": {},
   "outputs": [],
   "source": [
    "alist=['Kim', 'Choi', 'Lee', 'Hong']\n",
    "blist=list(alist)\n",
    "id(alist)         # 교재의 값과 실행한 값은 다를 수 있다."
   ]
  },
  {
   "cell_type": "code",
   "execution_count": null,
   "id": "69a9e192",
   "metadata": {},
   "outputs": [],
   "source": [
    "id(blist)         # blist의 아이디는 alist의 아이디와 다를 것이다."
   ]
  },
  {
   "cell_type": "markdown",
   "id": "f47bfae2",
   "metadata": {},
   "source": [
    "* 리스트 탐색\n",
    "  * 특정 항목이 리스트의 어떤 인덱스에 있는지를 알려면 index()를 사용함"
   ]
  },
  {
   "cell_type": "code",
   "execution_count": null,
   "id": "eae7d6f6",
   "metadata": {},
   "outputs": [],
   "source": [
    "bts=['V', 'J-Hope','Suga', 'Jungkook']\n",
    "bts.index(\"Suga\")"
   ]
  },
  {
   "cell_type": "markdown",
   "id": "85a89efb",
   "metadata": {},
   "source": [
    "  * 만약 탐색하고자 하는 항목이 리스트에 없다면 오류가 발생 \n",
    "  * 따라서 탐색하기 전에 in 연산자를 이용하여 리스트 안에 항목이 있는지부터 확인하는 편이 안전함"
   ]
  },
  {
   "cell_type": "code",
   "execution_count": null,
   "id": "0d67787f",
   "metadata": {},
   "outputs": [],
   "source": [
    "if \"Suga\" in bts:\n",
    "    print(bts.index(\"Suga\"))"
   ]
  },
  {
   "cell_type": "markdown",
   "id": "04574099",
   "metadata": {},
   "source": [
    "* 리스트 탐색\n",
    "  * 반복문을 활용하면 리스트의 모든 항목을 한 번씩 방문하여 출력할 수 있음"
   ]
  },
  {
   "cell_type": "code",
   "execution_count": null,
   "id": "e42d4072",
   "metadata": {},
   "outputs": [],
   "source": [
    "bts=['V', 'J-Hope','Suga', 'Jungkook']\n",
    "for member in bts:\n",
    "    print(member)"
   ]
  },
  {
   "cell_type": "markdown",
   "id": "d66aff80",
   "metadata": {},
   "source": [
    "* 리스트 sort()\n",
    "  * 정렬sorting이란 리스트 안의 항목들을 크기 순으로 나열하는 것\n",
    "  * 정렬을 위해서는 리스트의 sort()메소드를 사용하면 됨"
   ]
  },
  {
   "cell_type": "code",
   "execution_count": null,
   "id": "fd8fdc7c",
   "metadata": {},
   "outputs": [],
   "source": [
    "numbers=[9, 6, 7, 1, 8, 4, 5, 3, 2]\n",
    "numbers.sort()\n",
    "print(numbers)"
   ]
  },
  {
   "cell_type": "markdown",
   "id": "3467b560",
   "metadata": {},
   "source": [
    "  * 리스트 안에 들어 있는 항목들이 문자열일 경우 사전 순서대로 정렬"
   ]
  },
  {
   "cell_type": "code",
   "execution_count": null,
   "id": "59b57970",
   "metadata": {},
   "outputs": [],
   "source": [
    "bts=['V', 'J-Hope','Suga', 'Jungkook']\n",
    "bts.sort()     # bts 리스트를 알파벳 순으로 정렬\n",
    "print(bts)"
   ]
  },
  {
   "cell_type": "markdown",
   "id": "59877c25",
   "metadata": {},
   "source": [
    "  * 리스트를 역으로 정렬하고 싶으면 sorted()를 호출할 때, reverse=True을 붙임"
   ]
  },
  {
   "cell_type": "code",
   "execution_count": null,
   "id": "6e13da17",
   "metadata": {},
   "outputs": [],
   "source": [
    "numbers.sort(reverse=True)\n",
    "print(numbers)"
   ]
  },
  {
   "cell_type": "code",
   "execution_count": null,
   "id": "65be274f",
   "metadata": {},
   "outputs": [],
   "source": [
    "numbers=[9, 6, 7, 1, 8, 4, 5, 3, 2]\n",
    "new_list=sorted(numbers)\n",
    "print(new_list)     # numbers 리스트를 항목의 크기 순으로 정렬"
   ]
  },
  {
   "cell_type": "code",
   "execution_count": null,
   "id": "a3ae21f1",
   "metadata": {},
   "outputs": [],
   "source": [
    "print(numbers)     # sorted() 함수는 정렬한 결과를 반환하므로 원래 리스트에는 변화가 없음"
   ]
  },
  {
   "cell_type": "code",
   "execution_count": null,
   "id": "8c3806f5",
   "metadata": {},
   "outputs": [],
   "source": [
    "numbers=[9, 6, 7, 1, 8, 4, 5, 3, 2]\n",
    "new_list=sorted(numbers, reverse=True)\n",
    "print(new_list)  "
   ]
  },
  {
   "cell_type": "markdown",
   "id": "de2bd0ae",
   "metadata": {},
   "source": [
    "* 리스트 함축\n",
    "  * 리스트 함축 표현을 사용하면 입력 리스트의 각 항목을 하나하나 방문하며 지정된 연산을 하고, 연산의 결과로 생성된 항목값을 가지는 리스트를 생성함"
   ]
  },
  {
   "cell_type": "code",
   "execution_count": null,
   "id": "ceb58421",
   "metadata": {},
   "outputs": [],
   "source": [
    "[x for x in range(10)]   # 0에서 9까지 숫자를 포함하는 리스트"
   ]
  },
  {
   "cell_type": "code",
   "execution_count": null,
   "id": "651b06ba",
   "metadata": {},
   "outputs": [],
   "source": [
    "[x*x for x in range(10)]   # 0에서 9까지 숫자의 제곱합"
   ]
  },
  {
   "cell_type": "code",
   "execution_count": null,
   "id": "4680ed5b",
   "metadata": {},
   "outputs": [],
   "source": [
    "st='Hello World'\n",
    "[x.upper() for x in st]     # 문자열 각각에 대해 upper() 메소드 적용"
   ]
  },
  {
   "cell_type": "code",
   "execution_count": null,
   "id": "12a23aca",
   "metadata": {},
   "outputs": [],
   "source": [
    "s=[]\n",
    "for x in [1, 2, 3, 4, 5]:\n",
    "    s.append(x**2)"
   ]
  },
  {
   "cell_type": "markdown",
   "id": "4c165f8e",
   "metadata": {},
   "source": [
    "  * 리스트 함축에는 if를 사용하여 조건이 추가될 수 있음\n",
    "    * 예를 들어서 0부터 9 사이의 정수 중에서 짝수의 집합을 리스트 함축으로 표현하면 다음과 같음"
   ]
  },
  {
   "cell_type": "code",
   "execution_count": null,
   "id": "b95e0057",
   "metadata": {},
   "outputs": [],
   "source": [
    "[x for x in range(10) if x%2==0]"
   ]
  },
  {
   "cell_type": "code",
   "execution_count": null,
   "id": "3a6d3e81",
   "metadata": {},
   "outputs": [],
   "source": [
    "[x**2 for x in range(10) if x%2==0] # 출력식에 제곱을 할 수 있다."
   ]
  },
  {
   "cell_type": "markdown",
   "id": "a98e14aa",
   "metadata": {},
   "source": [
    "    * 2개의 for loop 로 구성된 리스트 만들기"
   ]
  },
  {
   "cell_type": "code",
   "execution_count": null,
   "id": "b5d2229a",
   "metadata": {},
   "outputs": [],
   "source": [
    "[(x, y) for x in [1, 2, 3] for y in [3, 1, 4]]"
   ]
  },
  {
   "cell_type": "code",
   "execution_count": null,
   "id": "b69c49f9",
   "metadata": {},
   "outputs": [],
   "source": [
    "[(x, y) for x in [1, 2, 3] for y in [3, 1, 4] if x!=y]"
   ]
  },
  {
   "cell_type": "markdown",
   "id": "e8e1e1d9",
   "metadata": {},
   "source": [
    "### 2. 튜플\n",
    "* 튜플은 값을 고칠 수 없는 자료형\n",
    "  * 튜플은 ( ) 와 같이 정의"
   ]
  },
  {
   "cell_type": "code",
   "execution_count": null,
   "id": "773ee54b",
   "metadata": {},
   "outputs": [],
   "source": [
    "numbers=(1, 2, 3, 4, 5)\n",
    "numbers"
   ]
  },
  {
   "cell_type": "markdown",
   "id": "d71810dc",
   "metadata": {},
   "source": [
    "  * 튜플도 시퀀스의 일종이기 때문에 인덱싱과 슬라이싱은 문자열이나 리스트와 동일하게 동작함\n",
    "  * 또한 튜플간의 결합연산인 +와 반복연산자 *도 사용할 수 있음"
   ]
  },
  {
   "cell_type": "code",
   "execution_count": null,
   "id": "7c6db6a0",
   "metadata": {},
   "outputs": [],
   "source": [
    "t1=(1, 2, 3, 4, 5)\n",
    "t1[0]       # 튜플의 인데싱-리스트 인덱싱과 동일한 방식"
   ]
  },
  {
   "cell_type": "code",
   "execution_count": null,
   "id": "203dc45d",
   "metadata": {},
   "outputs": [],
   "source": [
    "t1[1:4]     # 튜플의 슬라이싱 결과로 튜플을 반환함"
   ]
  },
  {
   "cell_type": "code",
   "execution_count": null,
   "id": "01fdb664",
   "metadata": {},
   "outputs": [],
   "source": [
    "t2=t1+t1    # 튜플의 결합 연산\n",
    "t2"
   ]
  },
  {
   "cell_type": "markdown",
   "id": "cbb2620c",
   "metadata": {},
   "source": [
    "* 값 변경시 유용하게 사용"
   ]
  },
  {
   "cell_type": "code",
   "execution_count": null,
   "id": "707be53f",
   "metadata": {},
   "outputs": [],
   "source": [
    "a, b=1,2\n",
    "b, a=a, b\n",
    "a"
   ]
  },
  {
   "cell_type": "code",
   "execution_count": null,
   "id": "e6eab016",
   "metadata": {},
   "outputs": [],
   "source": [
    "b"
   ]
  },
  {
   "cell_type": "markdown",
   "id": "6e94d554",
   "metadata": {},
   "source": [
    "* count 메서드"
   ]
  },
  {
   "cell_type": "code",
   "execution_count": null,
   "id": "19e3e481",
   "metadata": {},
   "outputs": [],
   "source": [
    "a=(1, 2, 2, 2, 3, 4, 2)\n",
    "a.count(2)"
   ]
  },
  {
   "cell_type": "markdown",
   "id": "5dfaf2ef",
   "metadata": {},
   "source": [
    "### 3. 딕셔너리\n",
    "* 딕셔너리의 개념\n",
    "  * 딕셔너리에는 값value과 관련된 키key가 있음\n",
    "* 딕셔너리 정의\n",
    "  * 공백 딕셔너리는 중괄호 { }로 생성\n",
    "    * (참고) 공백 리스트는 대괄호 [ ]로 생성\n",
    "  * 딕셔너리를 활용하여 전화번호부 만들기"
   ]
  },
  {
   "cell_type": "code",
   "execution_count": null,
   "id": "cb93e4ac",
   "metadata": {},
   "outputs": [],
   "source": [
    "phone_book={ }     # 공백 딕셔너리를 생성\n",
    "phone_book[\"홍길동\"]=\"010-1234-5678\""
   ]
  },
  {
   "cell_type": "markdown",
   "id": "697b182b",
   "metadata": {},
   "source": [
    "  * phone_book 딕셔너리를 출력하면 키가 먼저 표시되고 콜론 다음에 값이 출력됨"
   ]
  },
  {
   "cell_type": "code",
   "execution_count": null,
   "id": "e0de46f4",
   "metadata": {},
   "outputs": [],
   "source": [
    "print(phone_book)"
   ]
  },
  {
   "cell_type": "markdown",
   "id": "6ddcff2b",
   "metadata": {},
   "source": [
    "* 딕셔너리 정의\n",
    "  * 이 딕셔너리에 몇 개의 다른 전화번호를 추가해서 출력해보면 다음과 같음\n",
    "    * 딕셔너리의 항목item이 쉼표로 구분되어 출력됨"
   ]
  },
  {
   "cell_type": "code",
   "execution_count": null,
   "id": "d73b0b7b",
   "metadata": {},
   "outputs": [],
   "source": [
    "phone_book[\"강감찬\"]=\"010-1234-5678\"\n",
    "phone_book[\"이순신\"]=\"010-1234-5678\"\n",
    "print(phone_book)"
   ]
  },
  {
   "cell_type": "markdown",
   "id": "cce11d6f",
   "metadata": {},
   "source": [
    "  *  리스트와 마찬가지로 딕셔너리에는 어떤 유형의 값도 저장할 수 있음"
   ]
  },
  {
   "cell_type": "code",
   "execution_count": null,
   "id": "f4894a88",
   "metadata": {},
   "outputs": [],
   "source": [
    "person_dic={'Name': '홍길동', 'Age': 27, 'Class': '초급'}\n",
    "print(person_dic['Name'])   # 딕셔너리의 'Name'이라는 키로 값을 조회함 \n",
    "print(person_dic['Age'])    # 딕셔너리의 'Age'이라는 키로 값을 조화함 "
   ]
  },
  {
   "cell_type": "markdown",
   "id": "925007c3",
   "metadata": {},
   "source": [
    "* 딕셔너리 기능\n",
    "  * 딕셔너리에서 가장 중요한 연산은 키를 가지고 연관된 값을 찾는 것\n",
    "  * 주소록이 있을 경우 사람 이름을 가지고 전화번호를 찾을 수 있어야 할 것임"
   ]
  },
  {
   "cell_type": "code",
   "execution_count": null,
   "id": "9e40b625",
   "metadata": {},
   "outputs": [],
   "source": [
    "print(phone_book[\"강감찬\"])"
   ]
  },
  {
   "cell_type": "markdown",
   "id": "9d53a95b",
   "metadata": {},
   "source": [
    "  * 리스트에서는 인덱스를 가지고 항목을 찾을 수 있지만 딕셔너리에서는 키가 있어야 값을 찾을 수 있음\n",
    "    * 딕셔너리에서 사용되는 모든 키를 출력하려면 다음과 같이 keys()라는 메소드를 사용"
   ]
  },
  {
   "cell_type": "code",
   "execution_count": null,
   "id": "7675b74d",
   "metadata": {},
   "outputs": [],
   "source": [
    "phone_book.keys()"
   ]
  },
  {
   "cell_type": "markdown",
   "id": "3cfd8bd2",
   "metadata": {},
   "source": [
    "  * 딕셔너리에서 사용되는 모든 값을 출력하려면 values()를 사용함"
   ]
  },
  {
   "cell_type": "code",
   "execution_count": null,
   "id": "be1f982a",
   "metadata": {},
   "outputs": [],
   "source": [
    "phone_book.values()"
   ]
  },
  {
   "cell_type": "markdown",
   "id": "d9f10bcf",
   "metadata": {},
   "source": [
    "  * 딕셔너리 내부의 모든 값을 출력하려면 items()를 사용할 수도 있음\n",
    "  * for문에서 phone_book.items() 함수를 호출하면 (키, 값) 튜플이 반환되므로 아래처럼 활용할 수 있음"
   ]
  },
  {
   "cell_type": "code",
   "execution_count": null,
   "id": "17fe51cc",
   "metadata": {},
   "outputs": [],
   "source": [
    "phone_book.items()"
   ]
  },
  {
   "cell_type": "code",
   "execution_count": null,
   "id": "75b36191",
   "metadata": {},
   "outputs": [],
   "source": [
    "for name, phone_num in phone_book.items():\n",
    "    print(name, ':', phone_num)"
   ]
  },
  {
   "cell_type": "markdown",
   "id": "84f90ae5",
   "metadata": {},
   "source": [
    "  * keys() 메소드를 활용해서도 동일한 결과를 얻을 수 있음\n",
    "    * keys() 메소드는 딕셔너리에 있는 키 항목을 시퀀스로 반환"
   ]
  },
  {
   "cell_type": "code",
   "execution_count": null,
   "id": "5e1d40e0",
   "metadata": {},
   "outputs": [],
   "source": [
    "for key in phone_book.keys():\n",
    "    print(key, ':', phone_book[key])"
   ]
  },
  {
   "cell_type": "markdown",
   "id": "d0d4bded",
   "metadata": {},
   "source": [
    "* 딕셔너리 항목의 정렬과 삭제\n",
    "  * sorted() 함수는 phone_book.item()와 같이 키, 값의 튜플 쌍을 받아 이를 정렬할 수 있음"
   ]
  },
  {
   "cell_type": "code",
   "execution_count": null,
   "id": "71f7c021",
   "metadata": {},
   "outputs": [],
   "source": [
    "sorted(phone_book)    # 딕셔너리를 키를 기준으로 정렬하며 리스트를 변환"
   ]
  },
  {
   "cell_type": "code",
   "execution_count": null,
   "id": "3995c0ec",
   "metadata": {},
   "outputs": [],
   "source": [
    "sorted_phone_book=sorted(phone_book.items(), key=lambda x: x[0])  \n",
    "print(sorted_phone_book)"
   ]
  },
  {
   "cell_type": "markdown",
   "id": "3e142656",
   "metadata": {},
   "source": [
    "    * 람다(lambda) 표현식은 x를 인자로 받아 x의 첫 항목인 x[0]를 반환하는 기능을 함\n",
    "    * x[0] -> 첫 번째 항목 기준으로 정렬, x[1] --> 두 번째 항목 기준으로 정렬\n",
    "  * 만일 딕셔너리의 항목을 삭제하려면 다음과 같이 del을 사용함"
   ]
  },
  {
   "cell_type": "code",
   "execution_count": null,
   "id": "846393f4",
   "metadata": {},
   "outputs": [],
   "source": [
    "del phone_book[\"홍길동\"]     # \"홍길동\" 키를 이용하여 딕셔너리의 한 항목 삭제\n",
    "print(phone_book)"
   ]
  },
  {
   "cell_type": "markdown",
   "id": "119beed2",
   "metadata": {},
   "source": [
    "* 딕셔너리 관련 메소드\n",
    "  * keys() : 딕셔너리 내의 모든 키를 반환한다.\n",
    "  * values() : 딕셔너리 내의 모든 값을 반환한다. \n",
    "  * items() : 딕셔너리 내의 모든 항목을 [키]:[값] 쌍으로 반환한다.\n",
    "  * get(key) : 키에 대한 값을 반환한다. 키가 없으면 None을 반환한다.\n",
    "  * pop(key) : 키에 대한 값을 반환하고, 그 항목을 삭제한다. 키가 없으면 KeyError 예외를 발생시킨다.\n",
    "  * popitem() : 제일 마지막ㄷ에 입력된 항목을 반환하고 그 항목을 삭제한다.\n",
    "  * clear() : 딕셔너리 내의 모든 항목을 삭제한다."
   ]
  },
  {
   "cell_type": "markdown",
   "id": "0bf41c8e",
   "metadata": {},
   "source": [
    "* 람다함수는 이름이 없는 함수 \n",
    "  * 두 수를 입력받아 그 합을 반환하는 익명의 함수 lambda x, y : x+y는 다음과 같이 호출할 수 있음"
   ]
  },
  {
   "cell_type": "code",
   "execution_count": null,
   "id": "5a4fc6a4",
   "metadata": {},
   "outputs": [],
   "source": [
    "print('100과 200의 합 :', (lambda x, y: x+y)(100, 200))   # 100, 200이 람다 함수의 인자"
   ]
  },
  {
   "cell_type": "markdown",
   "id": "e1fafc11",
   "metadata": {},
   "source": [
    "  * 만일 특정한 튜플에서 첫 항목만을 추출하는 람다 함수를 정의하려면 다음과 같이 할 수 있음"
   ]
  },
  {
   "cell_type": "code",
   "execution_count": null,
   "id": "5566044e",
   "metadata": {},
   "outputs": [],
   "source": [
    "t=(100, 200, 300)\n",
    "(lambda x: x[0])(t)     # t를 인자로 받아서 그 첫 항목 t[0]을 변환한다."
   ]
  },
  {
   "cell_type": "code",
   "execution_count": null,
   "id": "49e3955d",
   "metadata": {},
   "outputs": [],
   "source": [
    "(lambda x: x[1])(t)     # t를 인자로 받아서 그 두번째 항목 t[1]을 변환한다."
   ]
  },
  {
   "cell_type": "markdown",
   "id": "1f06e226",
   "metadata": {},
   "source": [
    "### 3. 집합\n",
    "* 집합 생성 \n",
    "  * 파이썬에서 사용하는 집합set 순서가 없는 자료형"
   ]
  },
  {
   "cell_type": "code",
   "execution_count": null,
   "id": "a89ea709",
   "metadata": {},
   "outputs": [],
   "source": [
    "numbers={2, 1, 3}     # 숫자 3개로 이루어진 집합 자료형\n",
    "numbers"
   ]
  },
  {
   "cell_type": "markdown",
   "id": "e6757dc9",
   "metadata": {},
   "source": [
    "    * 리스트로부터 생성"
   ]
  },
  {
   "cell_type": "code",
   "execution_count": null,
   "id": "b28516b1",
   "metadata": {},
   "outputs": [],
   "source": [
    "set([1, 2, 3, 1, 2])     # 리스트로부터 집합을 생성함"
   ]
  },
  {
   "cell_type": "markdown",
   "id": "7313ea39",
   "metadata": {},
   "source": [
    "    * 문자열로부터 생성"
   ]
  },
  {
   "cell_type": "code",
   "execution_count": null,
   "id": "e0f18bef",
   "metadata": {},
   "outputs": [],
   "source": [
    "set(\"abcdefa\")       # 문자열도 시퀀스형이라서 집단형으로 변환이 가능하다."
   ]
  },
  {
   "cell_type": "markdown",
   "id": "50e21618",
   "metadata": {},
   "source": [
    "* 집합 항목 접근 \n",
    "  * in 연산자 사용"
   ]
  },
  {
   "cell_type": "code",
   "execution_count": null,
   "id": "40299f7c",
   "metadata": {},
   "outputs": [],
   "source": [
    "numbers={2, 1, 3}    \n",
    "if 1 in numbers: # 1이라는 항목이 numbㄷrs 집단에 있는가 검사\n",
    "    print(\"집합 안에 1이 있습니다.\")"
   ]
  },
  {
   "cell_type": "markdown",
   "id": "c22da19e",
   "metadata": {},
   "source": [
    "  * 인덱스로는 접근할 수 없음\n",
    "  * For 반복문으로부터 접근 가능"
   ]
  },
  {
   "cell_type": "code",
   "execution_count": null,
   "id": "c3c91f10",
   "metadata": {},
   "outputs": [],
   "source": [
    "numbers={2, 1, 3}    \n",
    "for x in numbers: \n",
    "    print(x, end=\" \")"
   ]
  },
  {
   "cell_type": "markdown",
   "id": "d4d16dfe",
   "metadata": {},
   "source": [
    "  * add() 메소드"
   ]
  },
  {
   "cell_type": "code",
   "execution_count": null,
   "id": "8561979f",
   "metadata": {},
   "outputs": [],
   "source": [
    "numbers={2, 1, 3}  \n",
    "numbers.add(4)     # numbers 집합에 원소 4를 추가\n",
    "numbers"
   ]
  },
  {
   "cell_type": "markdown",
   "id": "6e6d4a73",
   "metadata": {},
   "source": [
    "  * remove() 메소드"
   ]
  },
  {
   "cell_type": "code",
   "execution_count": null,
   "id": "daf40634",
   "metadata": {},
   "outputs": [],
   "source": [
    "numbers.remove(4)    # numbers 집합에 원소 4를 삭제\n",
    "numbers"
   ]
  },
  {
   "cell_type": "markdown",
   "id": "32f48f2d",
   "metadata": {},
   "source": [
    "  * 비교 연산"
   ]
  },
  {
   "cell_type": "code",
   "execution_count": null,
   "id": "347ccdf6",
   "metadata": {},
   "outputs": [],
   "source": [
    "A={1, 2, 3}\n",
    "B={1, 2, 3}\n",
    "A==B          # A가 B와 같은지 검사"
   ]
  },
  {
   "cell_type": "markdown",
   "id": "c4f84857",
   "metadata": {},
   "source": [
    "  * 진부분집합(<), 부분집합(<=)"
   ]
  },
  {
   "cell_type": "code",
   "execution_count": null,
   "id": "82875edb",
   "metadata": {},
   "outputs": [],
   "source": [
    "A={1, 2, 3, 4, 5}\n",
    "B={1, 2, 3}\n",
    "B < A         # A가 B의 진부분 집합인지 검사"
   ]
  },
  {
   "cell_type": "markdown",
   "id": "b800a0fe",
   "metadata": {},
   "source": [
    "* all(), any() 함수 \n",
    "  * all() 함수 : 모두 True 인가?\n",
    "  * any() 함수 : 0이 있는가?"
   ]
  },
  {
   "cell_type": "code",
   "execution_count": null,
   "id": "8d3eee28",
   "metadata": {},
   "outputs": [],
   "source": [
    "a_set={1, 0, 2, 3, 3}\n",
    "all(a_set)     # a_set이 모두 True인가를 검사한다."
   ]
  },
  {
   "cell_type": "code",
   "execution_count": null,
   "id": "a2971c62",
   "metadata": {},
   "outputs": [],
   "source": [
    "any(a_set)     # a_set에 0이 있는 가를 검사한다."
   ]
  },
  {
   "cell_type": "code",
   "execution_count": 1,
   "id": "d6a5aa46",
   "metadata": {},
   "outputs": [
    {
     "name": "stdout",
     "output_type": "stream",
     "text": [
      "False\n",
      "True\n",
      "False\n",
      "True\n"
     ]
    }
   ],
   "source": [
    "print(any([False, False, False]))\n",
    "\n",
    "print(any([False, True, False]))\n",
    "\n",
    "print(all([False, True, False]))\n",
    "\n",
    "print(all([True, True, True]))"
   ]
  },
  {
   "cell_type": "code",
   "execution_count": null,
   "id": "dbf257de",
   "metadata": {},
   "outputs": [],
   "source": []
  }
 ],
 "metadata": {
  "kernelspec": {
   "display_name": "Python 3 (ipykernel)",
   "language": "python",
   "name": "python3"
  },
  "language_info": {
   "codemirror_mode": {
    "name": "ipython",
    "version": 3
   },
   "file_extension": ".py",
   "mimetype": "text/x-python",
   "name": "python",
   "nbconvert_exporter": "python",
   "pygments_lexer": "ipython3",
   "version": "3.9.7"
  }
 },
 "nbformat": 4,
 "nbformat_minor": 5
}
