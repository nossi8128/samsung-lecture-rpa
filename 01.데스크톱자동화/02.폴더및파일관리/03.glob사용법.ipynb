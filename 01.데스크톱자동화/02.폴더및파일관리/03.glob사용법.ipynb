{
 "cells": [
  {
   "cell_type": "code",
   "execution_count": 1,
   "metadata": {},
   "outputs": [
    {
     "data": {
      "text/plain": [
       "['테스트1/2023-02-06 data1.txt']"
      ]
     },
     "execution_count": 1,
     "metadata": {},
     "output_type": "execute_result"
    }
   ],
   "source": [
    "# glob pattern 매칭 기법\n",
    "# 패턴에 맞는 파일을 찾을 때 사용\n",
    "\n",
    "import glob\n",
    "\n",
    "glob.glob('테스트1/2023-02-06 data1.txt')"
   ]
  },
  {
   "cell_type": "code",
   "execution_count": 2,
   "metadata": {},
   "outputs": [
    {
     "data": {
      "text/plain": [
       "['테스트1\\\\2023-02-06 data1.txt',\n",
       " '테스트1\\\\2023-02-06 data2.txt',\n",
       " '테스트1\\\\2023-02-06 data3.txt',\n",
       " '테스트1\\\\2023-02-06 data4.txt',\n",
       " '테스트1\\\\2023-02-06 data5.txt',\n",
       " '테스트1\\\\2023-02-06 data6.txt',\n",
       " '테스트1\\\\2023-02-06 data7.txt',\n",
       " '테스트1\\\\2023-02-06 data8.txt',\n",
       " '테스트1\\\\2023-02-06 data9.txt']"
      ]
     },
     "execution_count": 2,
     "metadata": {},
     "output_type": "execute_result"
    }
   ],
   "source": [
    "# ? 기호\n",
    "# 문자의 종류와 상관없이 정확히 한글자와 매칭\n",
    "glob.glob('테스트1/2023-02-06 data?.txt')"
   ]
  },
  {
   "cell_type": "code",
   "execution_count": null,
   "metadata": {},
   "outputs": [],
   "source": [
    "glob.glob('테스트1/2023-02-06 data??.txt')"
   ]
  },
  {
   "cell_type": "code",
   "execution_count": null,
   "metadata": {},
   "outputs": [],
   "source": [
    "# * 기호\n",
    "# 길이와 상관없이 모든 문자열과 매칭\n",
    "glob.glob('테스트1/2023-02-06 *.txt')"
   ]
  },
  {
   "cell_type": "code",
   "execution_count": 7,
   "metadata": {},
   "outputs": [
    {
     "data": {
      "text/plain": [
       "['테스트1\\\\2023-02-06 data1.txt',\n",
       " '테스트1\\\\2023-02-06 data10.txt',\n",
       " '테스트1\\\\2023-02-06 data100.txt',\n",
       " '테스트1\\\\2023-02-06 data11.txt',\n",
       " '테스트1\\\\2023-02-06 data12.txt',\n",
       " '테스트1\\\\2023-02-06 data13.txt',\n",
       " '테스트1\\\\2023-02-06 data14.txt',\n",
       " '테스트1\\\\2023-02-06 data15.txt',\n",
       " '테스트1\\\\2023-02-06 data16.txt',\n",
       " '테스트1\\\\2023-02-06 data17.txt',\n",
       " '테스트1\\\\2023-02-06 data18.txt',\n",
       " '테스트1\\\\2023-02-06 data19.txt',\n",
       " '테스트1\\\\2023-02-06 data2.txt',\n",
       " '테스트1\\\\2023-02-06 data20.txt',\n",
       " '테스트1\\\\2023-02-06 data21.txt',\n",
       " '테스트1\\\\2023-02-06 data22.txt',\n",
       " '테스트1\\\\2023-02-06 data23.txt',\n",
       " '테스트1\\\\2023-02-06 data24.txt',\n",
       " '테스트1\\\\2023-02-06 data25.txt',\n",
       " '테스트1\\\\2023-02-06 data26.txt',\n",
       " '테스트1\\\\2023-02-06 data27.txt',\n",
       " '테스트1\\\\2023-02-06 data28.txt',\n",
       " '테스트1\\\\2023-02-06 data29.txt',\n",
       " '테스트1\\\\2023-02-06 data3.txt',\n",
       " '테스트1\\\\2023-02-06 data30.txt',\n",
       " '테스트1\\\\2023-02-06 data31.txt',\n",
       " '테스트1\\\\2023-02-06 data32.txt',\n",
       " '테스트1\\\\2023-02-06 data33.txt',\n",
       " '테스트1\\\\2023-02-06 data34.txt',\n",
       " '테스트1\\\\2023-02-06 data35.txt',\n",
       " '테스트1\\\\2023-02-06 data36.txt',\n",
       " '테스트1\\\\2023-02-06 data37.txt',\n",
       " '테스트1\\\\2023-02-06 data38.txt',\n",
       " '테스트1\\\\2023-02-06 data39.txt',\n",
       " '테스트1\\\\2023-02-06 data4.txt',\n",
       " '테스트1\\\\2023-02-06 data40.txt',\n",
       " '테스트1\\\\2023-02-06 data41.txt',\n",
       " '테스트1\\\\2023-02-06 data42.txt',\n",
       " '테스트1\\\\2023-02-06 data43.txt',\n",
       " '테스트1\\\\2023-02-06 data44.txt',\n",
       " '테스트1\\\\2023-02-06 data45.txt',\n",
       " '테스트1\\\\2023-02-06 data46.txt',\n",
       " '테스트1\\\\2023-02-06 data47.txt',\n",
       " '테스트1\\\\2023-02-06 data48.txt',\n",
       " '테스트1\\\\2023-02-06 data49.txt',\n",
       " '테스트1\\\\2023-02-06 data5.txt',\n",
       " '테스트1\\\\2023-02-06 data50.txt',\n",
       " '테스트1\\\\2023-02-06 data51.txt',\n",
       " '테스트1\\\\2023-02-06 data52.txt',\n",
       " '테스트1\\\\2023-02-06 data53.txt',\n",
       " '테스트1\\\\2023-02-06 data54.txt',\n",
       " '테스트1\\\\2023-02-06 data55.txt',\n",
       " '테스트1\\\\2023-02-06 data56.txt',\n",
       " '테스트1\\\\2023-02-06 data57.txt',\n",
       " '테스트1\\\\2023-02-06 data58.txt',\n",
       " '테스트1\\\\2023-02-06 data59.txt',\n",
       " '테스트1\\\\2023-02-06 data6.txt',\n",
       " '테스트1\\\\2023-02-06 data60.txt',\n",
       " '테스트1\\\\2023-02-06 data61.txt',\n",
       " '테스트1\\\\2023-02-06 data62.txt',\n",
       " '테스트1\\\\2023-02-06 data63.txt',\n",
       " '테스트1\\\\2023-02-06 data64.txt',\n",
       " '테스트1\\\\2023-02-06 data65.txt',\n",
       " '테스트1\\\\2023-02-06 data66.txt',\n",
       " '테스트1\\\\2023-02-06 data67.txt',\n",
       " '테스트1\\\\2023-02-06 data68.txt',\n",
       " '테스트1\\\\2023-02-06 data69.txt',\n",
       " '테스트1\\\\2023-02-06 data7.txt',\n",
       " '테스트1\\\\2023-02-06 data70.txt',\n",
       " '테스트1\\\\2023-02-06 data71.txt',\n",
       " '테스트1\\\\2023-02-06 data72.txt',\n",
       " '테스트1\\\\2023-02-06 data73.txt',\n",
       " '테스트1\\\\2023-02-06 data74.txt',\n",
       " '테스트1\\\\2023-02-06 data75.txt',\n",
       " '테스트1\\\\2023-02-06 data76.txt',\n",
       " '테스트1\\\\2023-02-06 data77.txt',\n",
       " '테스트1\\\\2023-02-06 data78.txt',\n",
       " '테스트1\\\\2023-02-06 data79.txt',\n",
       " '테스트1\\\\2023-02-06 data8.txt',\n",
       " '테스트1\\\\2023-02-06 data80.txt',\n",
       " '테스트1\\\\2023-02-06 data81.txt',\n",
       " '테스트1\\\\2023-02-06 data82.txt',\n",
       " '테스트1\\\\2023-02-06 data83.txt',\n",
       " '테스트1\\\\2023-02-06 data84.txt',\n",
       " '테스트1\\\\2023-02-06 data85.txt',\n",
       " '테스트1\\\\2023-02-06 data86.txt',\n",
       " '테스트1\\\\2023-02-06 data87.txt',\n",
       " '테스트1\\\\2023-02-06 data88.txt',\n",
       " '테스트1\\\\2023-02-06 data89.txt',\n",
       " '테스트1\\\\2023-02-06 data9.txt',\n",
       " '테스트1\\\\2023-02-06 data90.txt',\n",
       " '테스트1\\\\2023-02-06 data91.txt',\n",
       " '테스트1\\\\2023-02-06 data92.txt',\n",
       " '테스트1\\\\2023-02-06 data93.txt',\n",
       " '테스트1\\\\2023-02-06 data94.txt',\n",
       " '테스트1\\\\2023-02-06 data95.txt',\n",
       " '테스트1\\\\2023-02-06 data96.txt',\n",
       " '테스트1\\\\2023-02-06 data97.txt',\n",
       " '테스트1\\\\2023-02-06 data98.txt',\n",
       " '테스트1\\\\2023-02-06 data99.txt',\n",
       " '테스트1\\\\테스트2\\\\2023-02-06 data1.txt']"
      ]
     },
     "execution_count": 7,
     "metadata": {},
     "output_type": "execute_result"
    }
   ],
   "source": [
    "# ** 기호\n",
    "# 현재 디렉토리 뿐만 아니라 하위 디렉토리 모두 탐색\n",
    "# recursive = True 옵션을 줘야 함\n",
    "glob.glob('테스트1/**/*.txt', recursive=True)"
   ]
  },
  {
   "cell_type": "code",
   "execution_count": null,
   "metadata": {},
   "outputs": [],
   "source": []
  }
 ],
 "metadata": {
  "kernelspec": {
   "display_name": "Python 3",
   "language": "python",
   "name": "python3"
  },
  "language_info": {
   "codemirror_mode": {
    "name": "ipython",
    "version": 3
   },
   "file_extension": ".py",
   "mimetype": "text/x-python",
   "name": "python",
   "nbconvert_exporter": "python",
   "pygments_lexer": "ipython3",
   "version": "3.10.6"
  },
  "orig_nbformat": 4,
  "vscode": {
   "interpreter": {
    "hash": "200fa5d0b2981d58b1f27a61a10a35692b9d56d91ef977d0357ac52583da061d"
   }
  }
 },
 "nbformat": 4,
 "nbformat_minor": 2
}
