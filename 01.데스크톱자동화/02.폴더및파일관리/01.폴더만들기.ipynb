{
 "cells": [
  {
   "cell_type": "code",
   "execution_count": 1,
   "metadata": {},
   "outputs": [
    {
     "ename": "FileExistsError",
     "evalue": "[Errno 17] File exists: '테스트1'",
     "output_type": "error",
     "traceback": [
      "\u001b[0;31m---------------------------------------------------------------------------\u001b[0m",
      "\u001b[0;31mFileExistsError\u001b[0m                           Traceback (most recent call last)",
      "Cell \u001b[0;32mIn[1], line 4\u001b[0m\n\u001b[1;32m      1\u001b[0m \u001b[39mimport\u001b[39;00m \u001b[39mos\u001b[39;00m\n\u001b[1;32m      3\u001b[0m \u001b[39m# 상대 경로 이용\u001b[39;00m\n\u001b[0;32m----> 4\u001b[0m os\u001b[39m.\u001b[39;49mmkdir(\u001b[39m'\u001b[39;49m\u001b[39m테스트1\u001b[39;49m\u001b[39m'\u001b[39;49m)\n",
      "\u001b[0;31mFileExistsError\u001b[0m: [Errno 17] File exists: '테스트1'"
     ]
    }
   ],
   "source": [
    "import os\n",
    "\n",
    "# 상대 경로 이용\n",
    "os.mkdir('테스트1')"
   ]
  },
  {
   "cell_type": "code",
   "execution_count": 2,
   "metadata": {},
   "outputs": [],
   "source": [
    "# 상대 경로 이용 2\n",
    "os.mkdir('테스트1/테스트2')"
   ]
  },
  {
   "cell_type": "code",
   "execution_count": 3,
   "metadata": {},
   "outputs": [],
   "source": [
    "# 상대 경로 이용 3\n",
    "os.mkdir('../테스트3')"
   ]
  },
  {
   "cell_type": "code",
   "execution_count": 5,
   "metadata": {},
   "outputs": [
    {
     "ename": "FileExistsError",
     "evalue": "[WinError 183] 파일이 이미 있으므로 만들 수 없습니다: 'C:/samsung_auto2/01.데스크톱자동화/테스트4'",
     "output_type": "error",
     "traceback": [
      "\u001b[1;31m---------------------------------------------------------------------------\u001b[0m",
      "\u001b[1;31mFileExistsError\u001b[0m                           Traceback (most recent call last)",
      "\u001b[1;32mc:\\samsung_auto2\\01.데스크톱자동화\\02.폴더및파일관리\\01.폴더만들기.ipynb 셀 4\u001b[0m in \u001b[0;36m<cell line: 2>\u001b[1;34m()\u001b[0m\n\u001b[0;32m      <a href='vscode-notebook-cell:/c%3A/samsung_auto2/01.%EB%8D%B0%EC%8A%A4%ED%81%AC%ED%86%B1%EC%9E%90%EB%8F%99%ED%99%94/02.%ED%8F%B4%EB%8D%94%EB%B0%8F%ED%8C%8C%EC%9D%BC%EA%B4%80%EB%A6%AC/01.%ED%8F%B4%EB%8D%94%EB%A7%8C%EB%93%A4%EA%B8%B0.ipynb#W3sZmlsZQ%3D%3D?line=0'>1</a>\u001b[0m \u001b[39m# 절대 경로 이용\u001b[39;00m\n\u001b[1;32m----> <a href='vscode-notebook-cell:/c%3A/samsung_auto2/01.%EB%8D%B0%EC%8A%A4%ED%81%AC%ED%86%B1%EC%9E%90%EB%8F%99%ED%99%94/02.%ED%8F%B4%EB%8D%94%EB%B0%8F%ED%8C%8C%EC%9D%BC%EA%B4%80%EB%A6%AC/01.%ED%8F%B4%EB%8D%94%EB%A7%8C%EB%93%A4%EA%B8%B0.ipynb#W3sZmlsZQ%3D%3D?line=1'>2</a>\u001b[0m os\u001b[39m.\u001b[39;49mmkdir(\u001b[39m'\u001b[39;49m\u001b[39mC:/samsung_auto2/01.데스크톱자동화/테스트4\u001b[39;49m\u001b[39m'\u001b[39;49m)\n",
      "\u001b[1;31mFileExistsError\u001b[0m: [WinError 183] 파일이 이미 있으므로 만들 수 없습니다: 'C:/samsung_auto2/01.데스크톱자동화/테스트4'"
     ]
    }
   ],
   "source": [
    "# 절대 경로 이용\n",
    "os.mkdir('C:/samsung_auto2/01.데스크톱자동화/테스트4')"
   ]
  },
  {
   "cell_type": "code",
   "execution_count": 7,
   "metadata": {},
   "outputs": [
    {
     "data": {
      "text/plain": [
       "False"
      ]
     },
     "execution_count": 7,
     "metadata": {},
     "output_type": "execute_result"
    }
   ],
   "source": [
    "# 폴더나 파일이 있는 확인\n",
    "os.path.exists('C:/samsung_auto2/01.데스크톱자동화/테스트4')"
   ]
  },
  {
   "cell_type": "code",
   "execution_count": null,
   "metadata": {},
   "outputs": [],
   "source": [
    "# 논리형 자료형 (Boolean, Bool)\n",
    "True, False"
   ]
  },
  {
   "cell_type": "code",
   "execution_count": 12,
   "metadata": {},
   "outputs": [],
   "source": [
    "# 폴더가 없을 때만 만들기\n",
    "if not os.path.exists('C:/samsung_auto2/01.데스크톱자동화/테스트4'):\n",
    "    os.mkdir('C:/samsung_auto2/01.데스크톱자동화/테스트4')"
   ]
  },
  {
   "cell_type": "code",
   "execution_count": 10,
   "metadata": {},
   "outputs": [
    {
     "name": "stdout",
     "output_type": "stream",
     "text": [
      "어른입니다.\n",
      "입장하세요.\n"
     ]
    }
   ],
   "source": [
    "# 조건문\n",
    "age = 20\n",
    "if age > 19:\n",
    "    print(\"어른입니다.\")\n",
    "    print(\"입장하세요.\")\n",
    "else:\n",
    "    print(\"미성년자입니다.\")\n",
    "    print(\"퇴장하세요.\")"
   ]
  },
  {
   "cell_type": "code",
   "execution_count": 13,
   "metadata": {},
   "outputs": [
    {
     "data": {
      "text/plain": [
       "['01.마우스자동화.ipynb', '02.키보드자동화.ipynb', '03.메시지박스.ipynb', '04.줌자동로그인.ipynb']"
      ]
     },
     "execution_count": 13,
     "metadata": {},
     "output_type": "execute_result"
    }
   ],
   "source": [
    "# 폴더 내 파일 목록\n",
    "\n",
    "# \"01.마우스키보드\" 폴더 파일목록\n",
    "os.listdir('../01.마우스키보드/')"
   ]
  },
  {
   "cell_type": "code",
   "execution_count": 15,
   "metadata": {},
   "outputs": [
    {
     "data": {
      "text/plain": [
       "['01.마우스자동화.ipynb', '02.키보드자동화.ipynb', '03.메시지박스.ipynb', '04.줌자동로그인.ipynb']"
      ]
     },
     "execution_count": 15,
     "metadata": {},
     "output_type": "execute_result"
    }
   ],
   "source": [
    "file_list = os.listdir('c:/samsung_auto2/01.데스크톱자동화/01.마우스키보드')\n",
    "file_list"
   ]
  },
  {
   "cell_type": "code",
   "execution_count": 18,
   "metadata": {},
   "outputs": [
    {
     "data": {
      "text/plain": [
       "'04.줌자동로그인.ipynb'"
      ]
     },
     "execution_count": 18,
     "metadata": {},
     "output_type": "execute_result"
    }
   ],
   "source": [
    "file_list[-1]"
   ]
  },
  {
   "cell_type": "code",
   "execution_count": null,
   "metadata": {},
   "outputs": [],
   "source": [
    "file_list"
   ]
  }
 ],
 "metadata": {
  "kernelspec": {
   "display_name": "Python 3",
   "language": "python",
   "name": "python3"
  },
  "language_info": {
   "codemirror_mode": {
    "name": "ipython",
    "version": 3
   },
   "file_extension": ".py",
   "mimetype": "text/x-python",
   "name": "python",
   "nbconvert_exporter": "python",
   "pygments_lexer": "ipython3",
   "version": "3.11.2"
  },
  "orig_nbformat": 4,
  "vscode": {
   "interpreter": {
    "hash": "200fa5d0b2981d58b1f27a61a10a35692b9d56d91ef977d0357ac52583da061d"
   }
  }
 },
 "nbformat": 4,
 "nbformat_minor": 2
}
