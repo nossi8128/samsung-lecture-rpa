{
 "cells": [
  {
   "cell_type": "code",
   "execution_count": null,
   "metadata": {},
   "outputs": [],
   "source": [
    "import pyautogui\n",
    "\n",
    "# 화면 스크린샷 찍기\n",
    "pyautogui.screenshot('my_screenshot.png')"
   ]
  },
  {
   "cell_type": "code",
   "execution_count": null,
   "metadata": {},
   "outputs": [],
   "source": [
    "# 특정 범위 스크린샷 찍기\n",
    "pyautogui.screenshot('my_screenshot2.png', region=(0, 0, 300, 400))"
   ]
  },
  {
   "cell_type": "code",
   "execution_count": null,
   "metadata": {},
   "outputs": [],
   "source": [
    "# 그림판 또는 계산기\n",
    "# 1. 특정 이미지를 캡쳐해서 저장\n",
    "# 2. 해당 이미지로 화면의 좌표 찾기"
   ]
  },
  {
   "cell_type": "code",
   "execution_count": null,
   "metadata": {},
   "outputs": [],
   "source": [
    "pyautogui.locateCenterOnScreen('square.png')"
   ]
  },
  {
   "cell_type": "code",
   "execution_count": null,
   "metadata": {},
   "outputs": [],
   "source": [
    "# 흑백으로 변경 후 비교\n",
    "pyautogui.locateCenterOnScreen('square.png', grayscale=True) "
   ]
  },
  {
   "cell_type": "code",
   "execution_count": null,
   "metadata": {},
   "outputs": [],
   "source": [
    "# 정확성을 낮추고 싶을 때 confidence 값 낮추기\n",
    "# confidence 옵션은 opencv 설치해 줘야 한다.\n",
    "pip install opencv-python"
   ]
  },
  {
   "cell_type": "code",
   "execution_count": null,
   "metadata": {},
   "outputs": [],
   "source": [
    "x, y = pyautogui.locateCenterOnScreen('square.png', grayscale=True, confidence=0.7) "
   ]
  },
  {
   "cell_type": "code",
   "execution_count": null,
   "metadata": {},
   "outputs": [],
   "source": [
    "pyautogui.click(x, y, duration=2)"
   ]
  }
 ],
 "metadata": {
  "kernelspec": {
   "display_name": "Python 3",
   "language": "python",
   "name": "python3"
  },
  "language_info": {
   "codemirror_mode": {
    "name": "ipython",
    "version": 3
   },
   "file_extension": ".py",
   "mimetype": "text/x-python",
   "name": "python",
   "nbconvert_exporter": "python",
   "pygments_lexer": "ipython3",
   "version": "3.10.6"
  },
  "orig_nbformat": 4,
  "vscode": {
   "interpreter": {
    "hash": "48de126de90f407ad80f778bff8afb5cd350237ec379a910435a02a423e6119b"
   }
  }
 },
 "nbformat": 4,
 "nbformat_minor": 2
}
