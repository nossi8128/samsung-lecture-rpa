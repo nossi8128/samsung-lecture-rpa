{
 "cells": [
  {
   "cell_type": "code",
   "execution_count": 6,
   "metadata": {},
   "outputs": [
    {
     "data": {
      "text/plain": [
       "<Sheet [부서원 휴가사용조회-2023.09.xlsx]Sheet1>"
      ]
     },
     "execution_count": 6,
     "metadata": {},
     "output_type": "execute_result"
    }
   ],
   "source": [
    "import xlwings as xw\n",
    "\n",
    "wb = xw.Book('annual_leave_data/부서원 휴가사용조회-2023.09.xlsx')\n",
    "ws = wb.sheets['Sheet1']\n",
    "ws"
   ]
  },
  {
   "cell_type": "code",
   "execution_count": 7,
   "metadata": {},
   "outputs": [],
   "source": [
    "# 범위를 복사\n",
    "ws.range('I3:J8').copy()"
   ]
  },
  {
   "cell_type": "code",
   "execution_count": 8,
   "metadata": {},
   "outputs": [],
   "source": [
    "wb2 = xw.Book('annual_leave_data/사무직 휴가사용현황(연구개발팀, 9월).xlsx')\n",
    "ws2 = wb2.sheets['Sheet1']\n",
    "\n",
    "# 값만 붙여넣기\n",
    "ws2.range('I6').paste(paste='values')"
   ]
  },
  {
   "cell_type": "code",
   "execution_count": null,
   "metadata": {},
   "outputs": [],
   "source": [
    "# 서식, 함수 유지하고 붙여넣기\n",
    "ws2.range('I6').paste()"
   ]
  },
  {
   "cell_type": "code",
   "execution_count": 9,
   "metadata": {},
   "outputs": [],
   "source": [
    "# 가로로 붙여넣기\n",
    "ws2.range('C15').paste(transpose=True)"
   ]
  },
  {
   "cell_type": "code",
   "execution_count": 10,
   "metadata": {},
   "outputs": [],
   "source": [
    "# 3행 복사하기\n",
    "ws.range('3:3').copy()"
   ]
  },
  {
   "cell_type": "code",
   "execution_count": 11,
   "metadata": {},
   "outputs": [],
   "source": [
    "# B열 복사하기\n",
    "ws.range('B:B').copy()"
   ]
  },
  {
   "cell_type": "code",
   "execution_count": 14,
   "metadata": {},
   "outputs": [],
   "source": [
    "# C열 복사하기\n",
    "ws.range('B:B').offset(0, 1).copy()"
   ]
  },
  {
   "cell_type": "code",
   "execution_count": null,
   "metadata": {},
   "outputs": [],
   "source": [
    "\"\"\"\n",
    "paste 옵션\n",
    "all_merging_conditional_formats, \n",
    "all, \n",
    "all_except_borders,\n",
    "all_using_source_theme, \n",
    "column_widths, \n",
    "comments, \n",
    "formats, \n",
    "formulas, \n",
    "formulas_and_number_formats, \n",
    "validation, \n",
    "values, \n",
    "values_and_number_formats\n",
    "\"\"\""
   ]
  }
 ],
 "metadata": {
  "kernelspec": {
   "display_name": "Python 3",
   "language": "python",
   "name": "python3"
  },
  "language_info": {
   "codemirror_mode": {
    "name": "ipython",
    "version": 3
   },
   "file_extension": ".py",
   "mimetype": "text/x-python",
   "name": "python",
   "nbconvert_exporter": "python",
   "pygments_lexer": "ipython3",
   "version": "3.10.6"
  },
  "orig_nbformat": 4,
  "vscode": {
   "interpreter": {
    "hash": "200fa5d0b2981d58b1f27a61a10a35692b9d56d91ef977d0357ac52583da061d"
   }
  }
 },
 "nbformat": 4,
 "nbformat_minor": 2
}
