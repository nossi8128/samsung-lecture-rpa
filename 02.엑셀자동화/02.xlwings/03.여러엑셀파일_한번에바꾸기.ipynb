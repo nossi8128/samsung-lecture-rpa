{
 "cells": [
  {
   "cell_type": "code",
   "execution_count": 2,
   "metadata": {},
   "outputs": [
    {
     "data": {
      "text/plain": [
       "['세금계산서_놀부전자.xlsx',\n",
       " '세금계산서_제비공업.xlsx',\n",
       " '세금계산서_콩쥐하이텍.xlsx',\n",
       " '세금계산서_팥쥐엔지니어링.xlsx',\n",
       " '세금계산서_흥부전자.xlsx']"
      ]
     },
     "execution_count": 2,
     "metadata": {},
     "output_type": "execute_result"
    }
   ],
   "source": [
    "# 1. taxbill_data 폴더의 파일 리스트 가져오기\n",
    "import os\n",
    "import xlwings as xw\n",
    "\n",
    "# 폴더 경로\n",
    "folder_path = r'C:\\samsung_auto2\\02.엑셀자동화\\02.xlwings\\taxbill_data'\n",
    "file_list = os.listdir(folder_path)\n",
    "file_list"
   ]
  },
  {
   "cell_type": "code",
   "execution_count": null,
   "metadata": {},
   "outputs": [],
   "source": [
    "for file in file_list:\n",
    "    excel_path = os.path.join(folder_path, file)\n",
    "    \n",
    "    # 기존 엑셀 파일 불러오기\n",
    "    wb = xw.Book(excel_path)\n",
    "    \n",
    "    # 특정 시트 선택\n",
    "    ws = wb.sheets['자료입력페이지']\n",
    "\n",
    "    # 데이터 수정\n",
    "    ws.range('C14').value = '2023-02-01'\n",
    "\n",
    "    # 엑셀 저장\n",
    "    wb.save(excel_path)\n",
    "    xw.apps.active.quit()"
   ]
  }
 ],
 "metadata": {
  "kernelspec": {
   "display_name": "Python 3",
   "language": "python",
   "name": "python3"
  },
  "language_info": {
   "codemirror_mode": {
    "name": "ipython",
    "version": 3
   },
   "file_extension": ".py",
   "mimetype": "text/x-python",
   "name": "python",
   "nbconvert_exporter": "python",
   "pygments_lexer": "ipython3",
   "version": "3.10.6"
  },
  "orig_nbformat": 4,
  "vscode": {
   "interpreter": {
    "hash": "200fa5d0b2981d58b1f27a61a10a35692b9d56d91ef977d0357ac52583da061d"
   }
  }
 },
 "nbformat": 4,
 "nbformat_minor": 2
}
