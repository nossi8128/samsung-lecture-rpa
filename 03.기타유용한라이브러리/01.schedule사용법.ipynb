{
 "cells": [
  {
   "cell_type": "code",
   "execution_count": null,
   "metadata": {},
   "outputs": [],
   "source": [
    "# 기타 유용한 라이브러리를 소개하는 파트입니다.\n",
    "# 시간이 남는 경우 진행해 주시면 됩니다.\n",
    "# 테스트에 들어가지 않는 파트니, 원하는 라이브러리로 교체 해주셔도 됩니다.\n",
    "\n",
    "# schedule : 특정 시간에 동작하게 하기\n",
    "# toast : 토스트 띄우기\n",
    "# pyinstaller : 실행파일 생성하기"
   ]
  },
  {
   "cell_type": "code",
   "execution_count": 1,
   "metadata": {},
   "outputs": [
    {
     "name": "stdout",
     "output_type": "stream",
     "text": [
      "Collecting schedule\n",
      "  Downloading schedule-1.1.0-py2.py3-none-any.whl (10 kB)\n",
      "Installing collected packages: schedule\n",
      "Successfully installed schedule-1.1.0\n",
      "Note: you may need to restart the kernel to use updated packages.\n"
     ]
    },
    {
     "name": "stderr",
     "output_type": "stream",
     "text": [
      "\n",
      "[notice] A new release of pip available: 22.3 -> 23.0.1\n",
      "[notice] To update, run: python.exe -m pip install --upgrade pip\n"
     ]
    }
   ],
   "source": [
    "pip install schedule"
   ]
  },
  {
   "cell_type": "code",
   "execution_count": null,
   "metadata": {},
   "outputs": [],
   "source": [
    "import schedule\n",
    "import time\n",
    "import datetime\n",
    "\n",
    "# 등록된 스케쥴 삭제\n",
    "schedule.clear()\n",
    "\n",
    "def show_time():\n",
    "    now = datetime.datetime.now()\n",
    "    print(\"test code - 현재 시간 출력하기\")\n",
    "    print(now)\n",
    "    \n",
    "# 5초마다 show_time 동작\n",
    "schedule.every(5).seconds.do(show_time)\n",
    "\n",
    "# 무한 루프를 돌면서 스케쥴을 유지\n",
    "while True:\n",
    "    schedule.run_pending()\n",
    "    time.sleep(1)"
   ]
  },
  {
   "cell_type": "code",
   "execution_count": null,
   "metadata": {},
   "outputs": [],
   "source": [
    "def job():\n",
    "    print(\"test\")\n",
    "\n",
    "schedule.every(3).seconds.do(job) # 3초 마다\n",
    "schedule.every(3).minutes.do(job) # 3분 마다\n",
    "schedule.every(3).hours.do(job) # 3시간 마다\n",
    "schedule.every(3).days.do(job) # 3일 마다\n",
    "\n",
    "schedule.every().minute.at(\":30\").do(job) # 매분 30초 마다\n",
    "schedule.every().hours.at(\":30\").do(job) # 매시간 30분 마다\n",
    "\n",
    "schedule.every().days.at(\"12:30:00\").do(job) # 매일 12시 30분에 실행"
   ]
  }
 ],
 "metadata": {
  "kernelspec": {
   "display_name": "Python 3",
   "language": "python",
   "name": "python3"
  },
  "language_info": {
   "codemirror_mode": {
    "name": "ipython",
    "version": 3
   },
   "file_extension": ".py",
   "mimetype": "text/x-python",
   "name": "python",
   "nbconvert_exporter": "python",
   "pygments_lexer": "ipython3",
   "version": "3.10.6"
  },
  "orig_nbformat": 4,
  "vscode": {
   "interpreter": {
    "hash": "200fa5d0b2981d58b1f27a61a10a35692b9d56d91ef977d0357ac52583da061d"
   }
  }
 },
 "nbformat": 4,
 "nbformat_minor": 2
}
