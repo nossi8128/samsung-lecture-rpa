{
 "cells": [
  {
   "cell_type": "code",
   "execution_count": 1,
   "metadata": {},
   "outputs": [
    {
     "name": "stdout",
     "output_type": "stream",
     "text": [
      "Requirement already satisfied: win10toast in c:\\users\\startcoding\\appdata\\local\\programs\\python\\python310\\lib\\site-packages (0.9)\n",
      "Requirement already satisfied: setuptools in c:\\users\\startcoding\\appdata\\local\\programs\\python\\python310\\lib\\site-packages (from win10toast) (63.2.0)\n",
      "Requirement already satisfied: pypiwin32 in c:\\users\\startcoding\\appdata\\local\\programs\\python\\python310\\lib\\site-packages (from win10toast) (223)\n",
      "Requirement already satisfied: pywin32>=223 in c:\\users\\startcoding\\appdata\\local\\programs\\python\\python310\\lib\\site-packages (from pypiwin32->win10toast) (304)\n",
      "Note: you may need to restart the kernel to use updated packages.\n"
     ]
    },
    {
     "name": "stderr",
     "output_type": "stream",
     "text": [
      "\n",
      "[notice] A new release of pip available: 22.3 -> 23.0.1\n",
      "[notice] To update, run: python.exe -m pip install --upgrade pip\n"
     ]
    }
   ],
   "source": [
    "pip install win10toast"
   ]
  },
  {
   "cell_type": "code",
   "execution_count": 2,
   "metadata": {},
   "outputs": [
    {
     "data": {
      "text/plain": [
       "True"
      ]
     },
     "execution_count": 2,
     "metadata": {},
     "output_type": "execute_result"
    }
   ],
   "source": [
    "# 기본 win10toast 라이브러리\n",
    "from win10toast import ToastNotifier\n",
    "\n",
    "# 토스트 객체 생성\n",
    "toaster = ToastNotifier()\n",
    "\n",
    "# 토스트 띄우기\n",
    "toaster.show_toast(\"토스트 제목임\", \"토스트 본문 : 토스트는 맛있다\")"
   ]
  },
  {
   "cell_type": "code",
   "execution_count": null,
   "metadata": {},
   "outputs": [],
   "source": []
  }
 ],
 "metadata": {
  "kernelspec": {
   "display_name": "Python 3",
   "language": "python",
   "name": "python3"
  },
  "language_info": {
   "codemirror_mode": {
    "name": "ipython",
    "version": 3
   },
   "file_extension": ".py",
   "mimetype": "text/x-python",
   "name": "python",
   "nbconvert_exporter": "python",
   "pygments_lexer": "ipython3",
   "version": "3.10.6"
  },
  "orig_nbformat": 4,
  "vscode": {
   "interpreter": {
    "hash": "200fa5d0b2981d58b1f27a61a10a35692b9d56d91ef977d0357ac52583da061d"
   }
  }
 },
 "nbformat": 4,
 "nbformat_minor": 2
}
