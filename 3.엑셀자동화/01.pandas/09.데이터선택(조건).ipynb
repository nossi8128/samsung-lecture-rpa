{
 "cells": [
  {
   "cell_type": "code",
   "execution_count": 1,
   "metadata": {},
   "outputs": [
    {
     "data": {
      "text/html": [
       "<div>\n",
       "<style scoped>\n",
       "    .dataframe tbody tr th:only-of-type {\n",
       "        vertical-align: middle;\n",
       "    }\n",
       "\n",
       "    .dataframe tbody tr th {\n",
       "        vertical-align: top;\n",
       "    }\n",
       "\n",
       "    .dataframe thead th {\n",
       "        text-align: right;\n",
       "    }\n",
       "</style>\n",
       "<table border=\"1\" class=\"dataframe\">\n",
       "  <thead>\n",
       "    <tr style=\"text-align: right;\">\n",
       "      <th></th>\n",
       "      <th>이름</th>\n",
       "      <th>출생연도</th>\n",
       "      <th>출생지</th>\n",
       "      <th>담당파트</th>\n",
       "      <th>체중</th>\n",
       "    </tr>\n",
       "    <tr>\n",
       "      <th>번호</th>\n",
       "      <th></th>\n",
       "      <th></th>\n",
       "      <th></th>\n",
       "      <th></th>\n",
       "      <th></th>\n",
       "    </tr>\n",
       "  </thead>\n",
       "  <tbody>\n",
       "    <tr>\n",
       "      <th>1번</th>\n",
       "      <td>진</td>\n",
       "      <td>1992</td>\n",
       "      <td>과천</td>\n",
       "      <td>서브보컬</td>\n",
       "      <td>61</td>\n",
       "    </tr>\n",
       "    <tr>\n",
       "      <th>2번</th>\n",
       "      <td>뷔</td>\n",
       "      <td>1995</td>\n",
       "      <td>대구</td>\n",
       "      <td>서브보컬</td>\n",
       "      <td>63</td>\n",
       "    </tr>\n",
       "    <tr>\n",
       "      <th>3번</th>\n",
       "      <td>정국</td>\n",
       "      <td>1997</td>\n",
       "      <td>부산</td>\n",
       "      <td>메인보컬</td>\n",
       "      <td>66</td>\n",
       "    </tr>\n",
       "    <tr>\n",
       "      <th>4번</th>\n",
       "      <td>슈가</td>\n",
       "      <td>1993</td>\n",
       "      <td>대구</td>\n",
       "      <td>리드래퍼</td>\n",
       "      <td>57</td>\n",
       "    </tr>\n",
       "    <tr>\n",
       "      <th>5번</th>\n",
       "      <td>제이홉</td>\n",
       "      <td>1994</td>\n",
       "      <td>광주</td>\n",
       "      <td>메인댄서</td>\n",
       "      <td>59</td>\n",
       "    </tr>\n",
       "    <tr>\n",
       "      <th>6번</th>\n",
       "      <td>RM</td>\n",
       "      <td>1994</td>\n",
       "      <td>서울</td>\n",
       "      <td>리더</td>\n",
       "      <td>70</td>\n",
       "    </tr>\n",
       "    <tr>\n",
       "      <th>7번</th>\n",
       "      <td>지민</td>\n",
       "      <td>1995</td>\n",
       "      <td>부산</td>\n",
       "      <td>메인댄서</td>\n",
       "      <td>58</td>\n",
       "    </tr>\n",
       "  </tbody>\n",
       "</table>\n",
       "</div>"
      ],
      "text/plain": [
       "     이름  출생연도 출생지  담당파트  체중\n",
       "번호                         \n",
       "1번    진  1992  과천  서브보컬  61\n",
       "2번    뷔  1995  대구  서브보컬  63\n",
       "3번   정국  1997  부산  메인보컬  66\n",
       "4번   슈가  1993  대구  리드래퍼  57\n",
       "5번  제이홉  1994  광주  메인댄서  59\n",
       "6번   RM  1994  서울    리더  70\n",
       "7번   지민  1995  부산  메인댄서  58"
      ]
     },
     "execution_count": 1,
     "metadata": {},
     "output_type": "execute_result"
    }
   ],
   "source": [
    "import pandas as pd\n",
    "df = pd.read_excel('member.xlsx', index_col='번호')\n",
    "df"
   ]
  },
  {
   "cell_type": "code",
   "execution_count": 2,
   "metadata": {},
   "outputs": [
    {
     "data": {
      "text/html": [
       "<div>\n",
       "<style scoped>\n",
       "    .dataframe tbody tr th:only-of-type {\n",
       "        vertical-align: middle;\n",
       "    }\n",
       "\n",
       "    .dataframe tbody tr th {\n",
       "        vertical-align: top;\n",
       "    }\n",
       "\n",
       "    .dataframe thead th {\n",
       "        text-align: right;\n",
       "    }\n",
       "</style>\n",
       "<table border=\"1\" class=\"dataframe\">\n",
       "  <thead>\n",
       "    <tr style=\"text-align: right;\">\n",
       "      <th></th>\n",
       "      <th>이름</th>\n",
       "      <th>출생연도</th>\n",
       "      <th>출생지</th>\n",
       "      <th>담당파트</th>\n",
       "      <th>체중</th>\n",
       "    </tr>\n",
       "    <tr>\n",
       "      <th>번호</th>\n",
       "      <th></th>\n",
       "      <th></th>\n",
       "      <th></th>\n",
       "      <th></th>\n",
       "      <th></th>\n",
       "    </tr>\n",
       "  </thead>\n",
       "  <tbody>\n",
       "    <tr>\n",
       "      <th>2번</th>\n",
       "      <td>뷔</td>\n",
       "      <td>1995</td>\n",
       "      <td>대구</td>\n",
       "      <td>서브보컬</td>\n",
       "      <td>63</td>\n",
       "    </tr>\n",
       "    <tr>\n",
       "      <th>3번</th>\n",
       "      <td>정국</td>\n",
       "      <td>1997</td>\n",
       "      <td>부산</td>\n",
       "      <td>메인보컬</td>\n",
       "      <td>66</td>\n",
       "    </tr>\n",
       "    <tr>\n",
       "      <th>5번</th>\n",
       "      <td>제이홉</td>\n",
       "      <td>1994</td>\n",
       "      <td>광주</td>\n",
       "      <td>메인댄서</td>\n",
       "      <td>59</td>\n",
       "    </tr>\n",
       "    <tr>\n",
       "      <th>6번</th>\n",
       "      <td>RM</td>\n",
       "      <td>1994</td>\n",
       "      <td>서울</td>\n",
       "      <td>리더</td>\n",
       "      <td>70</td>\n",
       "    </tr>\n",
       "    <tr>\n",
       "      <th>7번</th>\n",
       "      <td>지민</td>\n",
       "      <td>1995</td>\n",
       "      <td>부산</td>\n",
       "      <td>메인댄서</td>\n",
       "      <td>58</td>\n",
       "    </tr>\n",
       "  </tbody>\n",
       "</table>\n",
       "</div>"
      ],
      "text/plain": [
       "     이름  출생연도 출생지  담당파트  체중\n",
       "번호                         \n",
       "2번    뷔  1995  대구  서브보컬  63\n",
       "3번   정국  1997  부산  메인보컬  66\n",
       "5번  제이홉  1994  광주  메인댄서  59\n",
       "6번   RM  1994  서울    리더  70\n",
       "7번   지민  1995  부산  메인댄서  58"
      ]
     },
     "execution_count": 2,
     "metadata": {},
     "output_type": "execute_result"
    }
   ],
   "source": [
    "df[df['출생연도'] >= 1994]"
   ]
  },
  {
   "cell_type": "code",
   "execution_count": 13,
   "metadata": {},
   "outputs": [
    {
     "data": {
      "text/plain": [
       "번호\n",
       "5번    제이홉\n",
       "7번     지민\n",
       "Name: 이름, dtype: object"
      ]
     },
     "execution_count": 13,
     "metadata": {},
     "output_type": "execute_result"
    }
   ],
   "source": [
    "# 담당파트가 메인댄서인 가수의 이름?\n",
    "df[df['담당파트'] == '메인댄서']['이름']"
   ]
  },
  {
   "cell_type": "code",
   "execution_count": null,
   "metadata": {},
   "outputs": [],
   "source": []
  }
 ],
 "metadata": {
  "kernelspec": {
   "display_name": "Python 3",
   "language": "python",
   "name": "python3"
  },
  "language_info": {
   "codemirror_mode": {
    "name": "ipython",
    "version": 3
   },
   "file_extension": ".py",
   "mimetype": "text/x-python",
   "name": "python",
   "nbconvert_exporter": "python",
   "pygments_lexer": "ipython3",
   "version": "3.10.6"
  },
  "orig_nbformat": 4,
  "vscode": {
   "interpreter": {
    "hash": "200fa5d0b2981d58b1f27a61a10a35692b9d56d91ef977d0357ac52583da061d"
   }
  }
 },
 "nbformat": 4,
 "nbformat_minor": 2
}
