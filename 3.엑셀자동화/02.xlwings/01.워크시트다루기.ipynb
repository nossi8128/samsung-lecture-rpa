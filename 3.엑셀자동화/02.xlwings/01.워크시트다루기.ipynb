{
 "cells": [
  {
   "cell_type": "code",
   "execution_count": null,
   "metadata": {},
   "outputs": [],
   "source": [
    "pip install xlwings"
   ]
  },
  {
   "cell_type": "code",
   "execution_count": 2,
   "metadata": {},
   "outputs": [
    {
     "data": {
      "text/plain": [
       "<Book [통합 문서1]>"
      ]
     },
     "execution_count": 2,
     "metadata": {},
     "output_type": "execute_result"
    }
   ],
   "source": [
    "import xlwings as xw\n",
    "\n",
    "# 1. 새로운 엑셀 파일 생성\n",
    "wb = xw.Book()\n",
    "wb"
   ]
  },
  {
   "cell_type": "code",
   "execution_count": 3,
   "metadata": {},
   "outputs": [],
   "source": [
    "# 시트 선택\n",
    "ws = wb.sheets['Sheet1']\n",
    "\n",
    "# 시트 이름 변경\n",
    "ws.name = '기계설계팀'"
   ]
  },
  {
   "cell_type": "code",
   "execution_count": 4,
   "metadata": {},
   "outputs": [],
   "source": [
    "# 엑셀 저장\n",
    "wb.save('사무직 교육이수현황.xlsx')"
   ]
  },
  {
   "cell_type": "code",
   "execution_count": 5,
   "metadata": {},
   "outputs": [],
   "source": [
    "# 엑셀 닫기\n",
    "xw.apps.active.quit()"
   ]
  },
  {
   "cell_type": "code",
   "execution_count": 6,
   "metadata": {},
   "outputs": [
    {
     "data": {
      "text/plain": [
       "<Sheet [사무직 교육이수현황.xlsx]공정자동화팀>"
      ]
     },
     "execution_count": 6,
     "metadata": {},
     "output_type": "execute_result"
    }
   ],
   "source": [
    "# 2. 기존에 만들어진 엑셀파일 불러오기\n",
    "wb = xw.Book('사무직 교육이수현황.xlsx')\n",
    "\n",
    "# 새로운 시트 생성\n",
    "wb.sheets.add('기술지원팀')\n",
    "wb.sheets.add('검사진단팀')\n",
    "wb.sheets.add('공정자동화팀')"
   ]
  },
  {
   "cell_type": "code",
   "execution_count": 7,
   "metadata": {},
   "outputs": [],
   "source": [
    "# 시트 삭제\n",
    "wb.sheets['검사진단팀'].delete()"
   ]
  },
  {
   "cell_type": "code",
   "execution_count": 21,
   "metadata": {},
   "outputs": [
    {
     "name": "stdout",
     "output_type": "stream",
     "text": [
      "공정자동화팀\n",
      "기술지원팀\n",
      "기계설계팀\n"
     ]
    }
   ],
   "source": [
    "# 모든 Sheet 다루기\n",
    "for sheet in wb.sheets:\n",
    "    print(sheet.name)\n",
    "    # 자동화 작업"
   ]
  },
  {
   "cell_type": "code",
   "execution_count": 23,
   "metadata": {},
   "outputs": [],
   "source": [
    "wb.save('사무직 교육이수현황.xlsx')\n",
    "xw.apps.active.quit()"
   ]
  },
  {
   "cell_type": "code",
   "execution_count": null,
   "metadata": {},
   "outputs": [],
   "source": []
  }
 ],
 "metadata": {
  "kernelspec": {
   "display_name": "Python 3",
   "language": "python",
   "name": "python3"
  },
  "language_info": {
   "codemirror_mode": {
    "name": "ipython",
    "version": 3
   },
   "file_extension": ".py",
   "mimetype": "text/x-python",
   "name": "python",
   "nbconvert_exporter": "python",
   "pygments_lexer": "ipython3",
   "version": "3.10.6"
  },
  "orig_nbformat": 4,
  "vscode": {
   "interpreter": {
    "hash": "200fa5d0b2981d58b1f27a61a10a35692b9d56d91ef977d0357ac52583da061d"
   }
  }
 },
 "nbformat": 4,
 "nbformat_minor": 2
}
