{
 "cells": [
  {
   "attachments": {},
   "cell_type": "markdown",
   "metadata": {},
   "source": [
    "1. taxbill_data/세금계산서.xlsx 파일 열기 : xw.Book()\n",
    "2. 작성일자(발행) 란에 오늘 날짜 입력하기 : ws.range('A1').value\n",
    "3. 저장하고 닫기 : wb.save(), wb.close()\n",
    "4. 1~3 과정을 반복하기 : for in\n"
   ]
  }
 ],
 "metadata": {
  "language_info": {
   "name": "python"
  },
  "orig_nbformat": 4
 },
 "nbformat": 4,
 "nbformat_minor": 2
}
