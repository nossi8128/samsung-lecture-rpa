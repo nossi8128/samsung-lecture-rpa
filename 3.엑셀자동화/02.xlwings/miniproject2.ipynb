{
 "cells": [
  {
   "attachments": {},
   "cell_type": "markdown",
   "metadata": {},
   "source": [
    "1. onlinesale_data/total.xlsx 열기\n",
    "2. 엑셀에 있는 데이터를 dataframe으로 가져오기\n",
    "3. 조건식을 이용하여 분리 (각각의 dataFrame에 넣기 => [게이밍 마우스, 마우스 패드, 기계식 키보드, 32인치 모니터])\n",
    "참고: names = df['제품명'].unique()\n",
    "4. sheet 만들기 + sheet 이름 바꾸기\n",
    "5. 각 시트에 데이터 입력하기\n",
    "6. 4~5 반복하기"
   ]
  },
  {
   "cell_type": "markdown",
   "metadata": {},
   "source": []
  }
 ],
 "metadata": {
  "language_info": {
   "name": "python"
  },
  "orig_nbformat": 4
 },
 "nbformat": 4,
 "nbformat_minor": 2
}
