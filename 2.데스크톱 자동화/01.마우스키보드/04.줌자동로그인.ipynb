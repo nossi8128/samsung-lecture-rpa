{
 "cells": [
  {
   "cell_type": "code",
   "execution_count": 16,
   "metadata": {},
   "outputs": [],
   "source": [
    "import pyautogui\n",
    "\n",
    "pyautogui.alert(text='프로그램 실행', title='알림', button='확인')\n",
    "\n",
    "# 줌 아이콘으로 마우스 이동\n",
    "pyautogui.moveTo(51, 643, 2)\n",
    "pyautogui.doubleClick() # 더블 클릭 해서 실행\n",
    "\n",
    "# 로그인 버튼으로 이동\n",
    "pyautogui.moveTo(x=1314, y=858, duration=2)\n",
    "pyautogui.click()\n",
    "\n",
    "# 아이디 입력\n",
    "pyautogui.write('test@naver.com', interval=0.15)\n",
    "pyautogui.press('tab')\n",
    "pyautogui.write('12345', interval=0.15)\n",
    "pyautogui.press('enter')"
   ]
  },
  {
   "cell_type": "code",
   "execution_count": null,
   "metadata": {},
   "outputs": [],
   "source": [
    "# 정리\n",
    "# pyautogui 라이브러리를 이용하면 마우스, 키보드 자동화 할 수 있다."
   ]
  },
  {
   "cell_type": "code",
   "execution_count": null,
   "metadata": {},
   "outputs": [],
   "source": [
    "# 단점\n",
    "# 1. 화면 좌표가 바뀌면 동작을 하지 않는다\n",
    "# 2. 제어권 넘겨 주기 때문에, 동시에 다른 작업 불가능"
   ]
  },
  {
   "cell_type": "code",
   "execution_count": null,
   "metadata": {},
   "outputs": [],
   "source": [
    "# 클릭이 안될 때\n",
    "# -> 관리자 권한을 부여하기"
   ]
  }
 ],
 "metadata": {
  "kernelspec": {
   "display_name": "Python 3",
   "language": "python",
   "name": "python3"
  },
  "language_info": {
   "codemirror_mode": {
    "name": "ipython",
    "version": 3
   },
   "file_extension": ".py",
   "mimetype": "text/x-python",
   "name": "python",
   "nbconvert_exporter": "python",
   "pygments_lexer": "ipython3",
   "version": "3.10.6"
  },
  "orig_nbformat": 4,
  "vscode": {
   "interpreter": {
    "hash": "200fa5d0b2981d58b1f27a61a10a35692b9d56d91ef977d0357ac52583da061d"
   }
  }
 },
 "nbformat": 4,
 "nbformat_minor": 2
}
