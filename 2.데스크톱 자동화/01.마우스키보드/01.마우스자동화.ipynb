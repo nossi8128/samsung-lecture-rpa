{
 "cells": [
  {
   "cell_type": "code",
   "execution_count": null,
   "metadata": {},
   "outputs": [],
   "source": [
    "pip install pyautogui"
   ]
  },
  {
   "cell_type": "code",
   "execution_count": 2,
   "metadata": {},
   "outputs": [
    {
     "data": {
      "text/plain": [
       "Size(width=2560, height=1600)"
      ]
     },
     "execution_count": 2,
     "metadata": {},
     "output_type": "execute_result"
    }
   ],
   "source": [
    "# 주석 (comments)\n",
    "# 설명을 적거나 명령 수행하지 않게 만들고 싶을 때\n",
    "\n",
    "import pyautogui\n",
    "\n",
    "# 1. 화면 크기 출력\n",
    "pyautogui.size()"
   ]
  },
  {
   "cell_type": "code",
   "execution_count": 3,
   "metadata": {},
   "outputs": [
    {
     "data": {
      "text/plain": [
       "Point(x=1314, y=858)"
      ]
     },
     "execution_count": 3,
     "metadata": {},
     "output_type": "execute_result"
    }
   ],
   "source": [
    "# 2. 마우스 위치 출력\n",
    "import time\n",
    "\n",
    "time.sleep(2)\n",
    "pyautogui.position()"
   ]
  },
  {
   "cell_type": "code",
   "execution_count": 8,
   "metadata": {},
   "outputs": [],
   "source": [
    "# 3. 마우스 이동\n",
    "# pyautogui.moveTo(49, 524) # 한번에 이동\n",
    "pyautogui.moveTo(49, 524, 2) # 2초동안 이동"
   ]
  },
  {
   "cell_type": "code",
   "execution_count": 9,
   "metadata": {},
   "outputs": [],
   "source": [
    "# 4. 마우스 클릭\n",
    "pyautogui.moveTo(49, 524, 2)\n",
    "pyautogui.click()\n",
    "pyautogui.click(button='right') # 오른쪽 클릭\n",
    "pyautogui.doubleClick() # 더블 클릭\n",
    "pyautogui.click(clicks=3, interval=1) # 3번 클릭 1초마다"
   ]
  },
  {
   "cell_type": "code",
   "execution_count": 13,
   "metadata": {},
   "outputs": [],
   "source": [
    "# 5. 마우스 드래그\n",
    "# x=1302, y=94 -> x=892, y=101\n",
    "pyautogui.moveTo(x=1302, y=94, duration=2)\n",
    "pyautogui.dragTo(x=892, y=101, duration=2)"
   ]
  },
  {
   "cell_type": "code",
   "execution_count": null,
   "metadata": {},
   "outputs": [],
   "source": [
    "# 6. 마우스 이동하고 바로 클릭\n",
    "pyautogui.click(300, 400, duration=1)"
   ]
  }
 ],
 "metadata": {
  "kernelspec": {
   "display_name": "Python 3",
   "language": "python",
   "name": "python3"
  },
  "language_info": {
   "codemirror_mode": {
    "name": "ipython",
    "version": 3
   },
   "file_extension": ".py",
   "mimetype": "text/x-python",
   "name": "python",
   "nbconvert_exporter": "python",
   "pygments_lexer": "ipython3",
   "version": "3.11.2"
  },
  "orig_nbformat": 4,
  "vscode": {
   "interpreter": {
    "hash": "200fa5d0b2981d58b1f27a61a10a35692b9d56d91ef977d0357ac52583da061d"
   }
  }
 },
 "nbformat": 4,
 "nbformat_minor": 2
}
