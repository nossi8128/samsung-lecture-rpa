{
 "cells": [
  {
   "cell_type": "code",
   "execution_count": 1,
   "metadata": {},
   "outputs": [
    {
     "data": {
      "text/plain": [
       "Win32Window(hWnd=67096)"
      ]
     },
     "execution_count": 1,
     "metadata": {},
     "output_type": "execute_result"
    }
   ],
   "source": [
    "import pyautogui\n",
    "\n",
    "# 현재 활성화 된 윈도우\n",
    "window = pyautogui.getActiveWindow()\n",
    "window"
   ]
  },
  {
   "cell_type": "code",
   "execution_count": 2,
   "metadata": {},
   "outputs": [
    {
     "data": {
      "text/plain": [
       "'● 05.윈도우창.ipynb - 03.업무자동화 - Visual Studio Code'"
      ]
     },
     "execution_count": 2,
     "metadata": {},
     "output_type": "execute_result"
    }
   ],
   "source": [
    "# 윈도우의 제목\n",
    "window.title"
   ]
  },
  {
   "cell_type": "code",
   "execution_count": 5,
   "metadata": {},
   "outputs": [
    {
     "data": {
      "text/plain": [
       "(3823, 355, 5905, 1480)"
      ]
     },
     "execution_count": 5,
     "metadata": {},
     "output_type": "execute_result"
    }
   ],
   "source": [
    "# 윈도우 좌표\n",
    "window.left, window.top, window.right, window.bottom"
   ]
  },
  {
   "cell_type": "code",
   "execution_count": 9,
   "metadata": {},
   "outputs": [],
   "source": [
    "# 윈도우 창을 기준으로 좌표 설정 가능\n",
    "pyautogui.click(window.left + 40, window.bottom - 50)"
   ]
  },
  {
   "cell_type": "code",
   "execution_count": 15,
   "metadata": {},
   "outputs": [
    {
     "data": {
      "text/plain": [
       "['',\n",
       " '',\n",
       " '● 05.윈도우창.ipynb - 03.업무자동화 - Visual Studio Code',\n",
       " '파이썬 함수 사용법 힌트 - Google 검색 - Chrome',\n",
       " '02. 데스크톱 자동화 - PowerPoint',\n",
       " '파이썬 업무자동화',\n",
       " '설정',\n",
       " '설정',\n",
       " '',\n",
       " '계산기',\n",
       " '계산기',\n",
       " 'Web Companion',\n",
       " '',\n",
       " '',\n",
       " '',\n",
       " '',\n",
       " '',\n",
       " '',\n",
       " 'Microsoft Text Input Application',\n",
       " 'Program Manager']"
      ]
     },
     "execution_count": 15,
     "metadata": {},
     "output_type": "execute_result"
    }
   ],
   "source": [
    "# 모든 창의 제목 가져오기\n",
    "pyautogui.getAllTitles()"
   ]
  },
  {
   "cell_type": "code",
   "execution_count": 28,
   "metadata": {},
   "outputs": [
    {
     "data": {
      "text/plain": [
       "[Win32Window(hWnd=66658)]"
      ]
     },
     "execution_count": 28,
     "metadata": {},
     "output_type": "execute_result"
    }
   ],
   "source": [
    "# 제목에 특정 단어를 포함하는 윈도우 (리스트로 반환)\n",
    "pyautogui.getWindowsWithTitle(\"chrome\")"
   ]
  },
  {
   "cell_type": "code",
   "execution_count": 32,
   "metadata": {},
   "outputs": [],
   "source": [
    "window = pyautogui.getWindowsWithTitle(\"chrome\")[0]\n",
    "if window.isActive == False:\n",
    "    window.activate() # 활성화"
   ]
  },
  {
   "cell_type": "code",
   "execution_count": 33,
   "metadata": {},
   "outputs": [],
   "source": [
    "if window.isMaximized == False:\n",
    "    window.maximize() # 최대화"
   ]
  },
  {
   "cell_type": "code",
   "execution_count": 34,
   "metadata": {},
   "outputs": [],
   "source": [
    "if window.isMinimized == False:\n",
    "    window.minimize() # 최소화"
   ]
  },
  {
   "cell_type": "code",
   "execution_count": null,
   "metadata": {},
   "outputs": [],
   "source": [
    "# 창 닫기\n",
    "window.close() "
   ]
  },
  {
   "cell_type": "code",
   "execution_count": null,
   "metadata": {},
   "outputs": [],
   "source": [
    "# 문제\n",
    "\n",
    "# 1. 그림판 실행 및 최대화하기 -> 2초 멈춤\n",
    "\n",
    "# 2. 원하는 도형을 찾아 아무 곳에다가 그리기 -> 2초 멈춤\n",
    "\n",
    "# 3. 그림판 종료, 저장하지 않음을 선택"
   ]
  }
 ],
 "metadata": {
  "kernelspec": {
   "display_name": "Python 3",
   "language": "python",
   "name": "python3"
  },
  "language_info": {
   "codemirror_mode": {
    "name": "ipython",
    "version": 3
   },
   "file_extension": ".py",
   "mimetype": "text/x-python",
   "name": "python",
   "nbconvert_exporter": "python",
   "pygments_lexer": "ipython3",
   "version": "3.10.6"
  },
  "orig_nbformat": 4,
  "vscode": {
   "interpreter": {
    "hash": "48de126de90f407ad80f778bff8afb5cd350237ec379a910435a02a423e6119b"
   }
  }
 },
 "nbformat": 4,
 "nbformat_minor": 2
}
