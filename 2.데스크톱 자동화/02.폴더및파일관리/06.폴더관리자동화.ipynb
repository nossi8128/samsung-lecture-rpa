{
 "cells": [
  {
   "cell_type": "code",
   "execution_count": 4,
   "metadata": {},
   "outputs": [
    {
     "name": "stdout",
     "output_type": "stream",
     "text": [
      "['c:\\\\Users\\\\startcoding\\\\Downloads\\\\bastien-plu-Ccbg_J_CRWg-unsplash.jpg', 'c:\\\\Users\\\\startcoding\\\\Downloads\\\\david-van-dijk-3LTht2nxd34-unsplash.jpg', 'c:\\\\Users\\\\startcoding\\\\Downloads\\\\lauren-kay-wUMfrBfNNq0-unsplash.jpg', 'c:\\\\Users\\\\startcoding\\\\Downloads\\\\excel.png', 'c:\\\\Users\\\\startcoding\\\\Downloads\\\\img.png', 'c:\\\\Users\\\\startcoding\\\\Downloads\\\\laptop-code-solid.png', 'c:\\\\Users\\\\startcoding\\\\Downloads\\\\pngwing.com.png']\n"
     ]
    }
   ],
   "source": [
    "# 다운로드 폴더에 있는 이미지 (.jpg, .png)\n",
    "# 다운로드/images 폴더를 만들고 이동시키기\n",
    "\n",
    "import os, shutil, glob\n",
    "\n",
    "# 1. images 폴더가 없다면 만들기\n",
    "\n",
    "# 정리할 폴더 경로 \n",
    "target_folder = r'c:\\Users\\startcoding\\Downloads'\n",
    "\n",
    "# 이미지를 저장할 경로\n",
    "img_folder = os.path.join(target_folder, 'images')\n",
    "\n",
    "if not os.path.exists(img_folder):\n",
    "    os.mkdir(img_folder)\n",
    "\n",
    "# 2. 다운로드 폴더에 있는 파일 목록 확인 (.jpg, .png)\n",
    "# file_list = [] 안에 모든 이미지 파일 경로 추가하기\n",
    "\n",
    "# 정리할 확장자\n",
    "ext_list = ['jpg', 'png']\n",
    "\n",
    "file_list = []\n",
    "for ext in ext_list:\n",
    "    a = glob.glob(f'{target_folder}/*.{ext}')\n",
    "    file_list.extend(a)\n",
    "\n",
    "print(file_list)\n",
    "\n",
    "# 3. 파일을 이동시키기\n",
    "for file in file_list:\n",
    "    shutil.move(file, img_folder)"
   ]
  },
  {
   "cell_type": "code",
   "execution_count": null,
   "metadata": {},
   "outputs": [],
   "source": [
    "ext_list = ['jpg', 'png']\n",
    "\n",
    "file_list = []\n",
    "for ext in ext_list:\n",
    "    a = glob.glob(f'{target_folder}/*.{ext}')\n",
    "    file_list.extend(a)\n",
    "\n",
    "# for 문을 사용하지 않았을 때를 먼저 보여주기"
   ]
  },
  {
   "cell_type": "code",
   "execution_count": null,
   "metadata": {},
   "outputs": [],
   "source": [
    "file_list = []\n",
    "file_list.extend(glob.glob(f'{target_folder}/*.jpg'))\n",
    "file_list.extend(glob.glob(f'{target_folder}/*.png'))"
   ]
  }
 ],
 "metadata": {
  "kernelspec": {
   "display_name": "Python 3",
   "language": "python",
   "name": "python3"
  },
  "language_info": {
   "codemirror_mode": {
    "name": "ipython",
    "version": 3
   },
   "file_extension": ".py",
   "mimetype": "text/x-python",
   "name": "python",
   "nbconvert_exporter": "python",
   "pygments_lexer": "ipython3",
   "version": "3.10.6"
  },
  "orig_nbformat": 4,
  "vscode": {
   "interpreter": {
    "hash": "200fa5d0b2981d58b1f27a61a10a35692b9d56d91ef977d0357ac52583da061d"
   }
  }
 },
 "nbformat": 4,
 "nbformat_minor": 2
}
