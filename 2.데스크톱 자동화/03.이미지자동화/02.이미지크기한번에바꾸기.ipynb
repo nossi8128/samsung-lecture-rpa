{
 "cells": [
  {
   "cell_type": "code",
   "execution_count": 4,
   "metadata": {},
   "outputs": [],
   "source": [
    "# 다운로드/images 에 있는\n",
    "# 이미지 크기 50% 만큼 줄이기\n",
    "# 줄인 이미지를 다운로드/images/resized_images 폴더에 저장\n",
    "\n",
    "import os, glob\n",
    "from PIL import Image\n",
    "\n",
    "# 정리할 폴더\n",
    "target_folder = r'c:\\Users\\startcoding\\Downloads\\images'\n",
    "destination = os.path.join(target_folder, 'resized_images')\n",
    "\n",
    "# 폴더가 없다면 만들기\n",
    "if not os.path.exists(destination):\n",
    "    os.mkdir(destination)"
   ]
  },
  {
   "cell_type": "code",
   "execution_count": 17,
   "metadata": {},
   "outputs": [],
   "source": [
    "# 1. listdir 이용하기\n",
    "# 폴더를 빼줘야 한다.\n",
    "\n",
    "file_list = os.listdir(target_folder)\n",
    "\n",
    "for file in file_list:\n",
    "    if '.jpg' in file or '.png' in file:\n",
    "        # 이미지 불러오기\n",
    "        img = Image.open(os.path.join(target_folder, file))\n",
    "\n",
    "        # 이미지 크기 수정\n",
    "        width = int(img.width * 0.5)\n",
    "        height = int(img.height * 0.5)\n",
    "\n",
    "        resized_img = img.resize((width, height))\n",
    "\n",
    "        # 이미지 저장\n",
    "        resized_img.save(os.path.join(destination, file))"
   ]
  },
  {
   "cell_type": "code",
   "execution_count": 1,
   "metadata": {},
   "outputs": [],
   "source": [
    "# 2. glob 이용하기\n",
    "\n",
    "import os, glob\n",
    "from PIL import Image\n",
    "\n",
    "# 정리할 폴더\n",
    "target_folder = r'c:\\Users\\startcoding\\Downloads\\images'\n",
    "destination = os.path.join(target_folder, 'resized_images')\n",
    "\n",
    "# 폴더가 없다면 만들기\n",
    "if not os.path.exists(destination):\n",
    "    os.mkdir(destination)"
   ]
  },
  {
   "cell_type": "code",
   "execution_count": 14,
   "metadata": {},
   "outputs": [],
   "source": [
    "file_list = glob.glob(f'{target_folder}/*.jpg')"
   ]
  },
  {
   "cell_type": "code",
   "execution_count": 15,
   "metadata": {},
   "outputs": [],
   "source": [
    "a = glob.glob(f'{target_folder}/*.png')"
   ]
  },
  {
   "cell_type": "code",
   "execution_count": 16,
   "metadata": {},
   "outputs": [],
   "source": [
    "file_list.extend(a)"
   ]
  },
  {
   "cell_type": "code",
   "execution_count": 19,
   "metadata": {},
   "outputs": [],
   "source": [
    "for file in file_list:\n",
    "    # 이미지 불러오기\n",
    "    img = Image.open(file)\n",
    "\n",
    "    # 이미지 크기 수정\n",
    "    width = int(img.width * 0.5)\n",
    "    height = int(img.height * 0.5)\n",
    "\n",
    "    resized_img = img.resize((width, height))\n",
    "\n",
    "    # 이미지 저장\n",
    "    resized_img.save(os.path.join(destination, os.path.basename(file)))"
   ]
  },
  {
   "cell_type": "code",
   "execution_count": null,
   "metadata": {},
   "outputs": [],
   "source": []
  }
 ],
 "metadata": {
  "kernelspec": {
   "display_name": "Python 3",
   "language": "python",
   "name": "python3"
  },
  "language_info": {
   "codemirror_mode": {
    "name": "ipython",
    "version": 3
   },
   "file_extension": ".py",
   "mimetype": "text/x-python",
   "name": "python",
   "nbconvert_exporter": "python",
   "pygments_lexer": "ipython3",
   "version": "3.10.6"
  },
  "orig_nbformat": 4,
  "vscode": {
   "interpreter": {
    "hash": "200fa5d0b2981d58b1f27a61a10a35692b9d56d91ef977d0357ac52583da061d"
   }
  }
 },
 "nbformat": 4,
 "nbformat_minor": 2
}
